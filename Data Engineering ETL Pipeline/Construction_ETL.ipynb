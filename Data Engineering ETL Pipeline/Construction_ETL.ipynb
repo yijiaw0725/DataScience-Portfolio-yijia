{
  "nbformat": 4,
  "nbformat_minor": 0,
  "metadata": {
    "colab": {
      "provenance": [],
      "authorship_tag": "ABX9TyNCSQbL34r+U/QyjC9RuFnq",
      "include_colab_link": true
    },
    "kernelspec": {
      "name": "python3",
      "display_name": "Python 3"
    },
    "language_info": {
      "name": "python"
    }
  },
  "cells": [
    {
      "cell_type": "markdown",
      "metadata": {
        "id": "view-in-github",
        "colab_type": "text"
      },
      "source": [
        "<a href=\"https://colab.research.google.com/github/yijiaw0725/DataScience-Portfolio-yijia/blob/main/Data%20Engineering%20ETL%20Pipeline/Construction_ETL.ipynb\" target=\"_parent\"><img src=\"https://colab.research.google.com/assets/colab-badge.svg\" alt=\"Open In Colab\"/></a>"
      ]
    },
    {
      "cell_type": "markdown",
      "source": [
        "This is mimiced job data for practice of building  database (including Employee KPI, Work Orders Information, Housing Information ect)."
      ],
      "metadata": {
        "id": "x6t-2-6cMfg_"
      }
    },
    {
      "cell_type": "code",
      "source": [
        "from google.colab import drive\n",
        "drive.mount('/content/drive')\n",
        "\n",
        "#\n",
        "!jupyter nbconvert --to notebook --output \"/content/Construction_ETL.ipynb\" \"/content/drive/MyDrive/path/to/your/notebook.ipynb\"\n"
      ],
      "metadata": {
        "id": "KFrd1dO6g7Kv"
      },
      "execution_count": null,
      "outputs": []
    },
    {
      "cell_type": "markdown",
      "source": [
        "### Mimic Data"
      ],
      "metadata": {
        "id": "m7Xjc1EAWYEp"
      }
    },
    {
      "cell_type": "code",
      "execution_count": null,
      "metadata": {
        "id": "NjcgOkEWLSIK"
      },
      "outputs": [],
      "source": [
        "!pip -q install duckdb"
      ]
    },
    {
      "cell_type": "code",
      "source": [
        "import duckdb, random, math\n",
        "from datetime import datetime, timedelta\n",
        "import pandas as pd\n",
        "import numpy as np"
      ],
      "metadata": {
        "id": "YgXd4fVBLWbX"
      },
      "execution_count": null,
      "outputs": []
    },
    {
      "cell_type": "code",
      "source": [
        "# set for reproduction\n",
        "random.seed(42); np.random.seed(42)\n",
        "con = duckdb.connect()"
      ],
      "metadata": {
        "id": "614gyp0zLY2J"
      },
      "execution_count": null,
      "outputs": []
    },
    {
      "cell_type": "markdown",
      "source": [
        "mimic data for people and work order issues."
      ],
      "metadata": {
        "id": "bp5EEP3kNIB-"
      }
    },
    {
      "cell_type": "code",
      "source": [
        "# Let's generate some fake data for practice\n",
        "# ===== generate empolyee KPI data =====\n",
        "positions = [\"Tech I\",\"Tech II\",\"Lead Tech\",\"Supervisor\"]\n",
        "cities = [\"Austin\",\"Chicago\",\"Dallas\",\"Denver\",\"Phoenix\",\"Charlotte\"]\n",
        "vendor_types = [\"Employee\",\"Vendor\"]\n",
        "\n",
        "n_people = 40\n",
        "people = []\n",
        "for i in range(1, n_people+1):\n",
        "    name = f\"Worker {i:02d}\"\n",
        "    email = f\"worker{i:02d}@example.com\"\n",
        "    people.append({\n",
        "        \"Name\": name,\n",
        "        \"cleaned_name\": name.lower(),\n",
        "        \"Email\": email,\n",
        "        \"cleaned_email\": email.lower(),\n",
        "        \"Position\": random.choice(positions),\n",
        "        \"Vendor Type\": random.choice(vendor_types),\n",
        "        \"City\": random.choice(cities),\n",
        "    })\n",
        "people_df = pd.DataFrame(people)\n",
        "\n",
        "# ===== generate WO details（around 3000）=====\n",
        "n_orders = 3000\n",
        "start = datetime(2025,1,1)\n",
        "end   = datetime(2025,6,30)\n",
        "\n",
        "wo_rows = []\n",
        "for k in range(n_orders):\n",
        "    p = people_df.sample(1).iloc[0]\n",
        "    created = start + timedelta(days=int(np.random.randint(0, (end-start).days+1)),\n",
        "                                hours=int(np.random.randint(0,24)))\n",
        "    dur_days = max(0, int(np.random.normal(2.5, 1.8)))   # average 2.5 days\n",
        "    completed = created + timedelta(days=dur_days)\n",
        "    wo_type = np.random.choice([\"Move In Inspection\",\"Turn\",\"Rehab\"], p=[0.4,0.35,0.25])\n",
        "    status = np.random.choice([\"Open\",\"In Progress\",\"Completed\"], p=[0.1,0.2,0.7])\n",
        "    if status != \"Completed\":\n",
        "        completed = None\n",
        "\n",
        "    wo_rows.append({\n",
        "        \"Vendor Name\": p[\"Name\"],\n",
        "        \"Vendor Type\": p[\"Vendor Type\"],\n",
        "        \"WO#\": 100000 + k,\n",
        "        \"Unit\": f\"Apt {np.random.randint(1,400)}\",\n",
        "        \"Address\": f\"{np.random.randint(100,9999)} Main St\",\n",
        "        \"City\": p[\"City\"],\n",
        "        \"State\": \"TX\",\n",
        "        \"Zip\": f\"{np.random.randint(10000,99999)}\",\n",
        "        \"Type\": wo_type,\n",
        "        \"Date Completed\": completed,\n",
        "        \"Date Created\": created,\n",
        "        \"Description\": f\"{wo_type} for unit\",\n",
        "        \"Start Date\": created.date(),\n",
        "        \"Status\": status,\n",
        "        \"Email\": p[\"Email\"],\n",
        "        \"Duration\": dur_days,\n",
        "        \"Status Mark\": status,\n",
        "        \"Priority Tags\": np.random.choice([\"Normal\",\"High\",\"Low\"], p=[0.7,0.2,0.1]),\n",
        "        \"City by Name\": p[\"City\"],\n",
        "        \"Date Created (MY)\": created.strftime(\"%Y-%m\"),\n",
        "        \"Cleaned Name\": p[\"cleaned_name\"],\n",
        "        \"Cleaned Email\": p[\"cleaned_email\"],\n",
        "    })\n",
        "issues_df = pd.DataFrame(wo_rows)\n",
        "\n",
        "# check for the size\n",
        "people_df.shape, issues_df.shape"
      ],
      "metadata": {
        "colab": {
          "base_uri": "https://localhost:8080/"
        },
        "id": "GpxM9r7ILc8F",
        "outputId": "ac015bb3-6292-4852-f537-3b1c192e64a6"
      },
      "execution_count": null,
      "outputs": [
        {
          "output_type": "execute_result",
          "data": {
            "text/plain": [
              "((40, 7), (3000, 22))"
            ]
          },
          "metadata": {},
          "execution_count": 5
        }
      ]
    },
    {
      "cell_type": "markdown",
      "source": [
        "Although the data is self generated here, let's mimic to get to know our data first before creating database."
      ],
      "metadata": {
        "id": "l7rCazdNRKqD"
      }
    },
    {
      "cell_type": "markdown",
      "source": [
        "### Know the Data"
      ],
      "metadata": {
        "id": "seeHt7MuWedk"
      }
    },
    {
      "cell_type": "code",
      "source": [
        "# Create a function for quick viewing information\n",
        "def quick_profile(df, name):\n",
        "    print(f\"=== {name} ===\")\n",
        "    print(f\"Shape: {df.shape[0]} rows × {df.shape[1]} columns\\n\")\n",
        "\n",
        "    print(\"Columns:\")\n",
        "    print(list(df.columns), \"\\n\")\n",
        "\n",
        "    print(\"Head (first 5 rows):\")\n",
        "    print(df.head(), \"\\n\")\n",
        "\n",
        "    print(\"Summary (numeric + object mix):\")\n",
        "    print(df.describe(include='all').T, \"\\n\")\n",
        "\n",
        "    print(\"Missing value count:\")\n",
        "    print(df.isnull().sum(), \"\\n\")\n",
        "    print(\"=\"*60, \"\\n\")\n",
        "\n",
        "# Run profiling for both dataframes\n",
        "quick_profile(people_df, \"People Data\")"
      ],
      "metadata": {
        "colab": {
          "base_uri": "https://localhost:8080/"
        },
        "collapsed": true,
        "id": "xak34XnAR8qO",
        "outputId": "3cf09f7e-c96e-49aa-c753-8829470362b5"
      },
      "execution_count": 11,
      "outputs": [
        {
          "output_type": "stream",
          "name": "stdout",
          "text": [
            "=== People Data ===\n",
            "Shape: 40 rows × 7 columns\n",
            "\n",
            "Columns:\n",
            "['Name', 'cleaned_name', 'Email', 'cleaned_email', 'Position', 'Vendor Type', 'City'] \n",
            "\n",
            "Head (first 5 rows):\n",
            "        Name cleaned_name                 Email         cleaned_email  \\\n",
            "0  Worker 01    worker 01  worker01@example.com  worker01@example.com   \n",
            "1  Worker 02    worker 02  worker02@example.com  worker02@example.com   \n",
            "2  Worker 03    worker 03  worker03@example.com  worker03@example.com   \n",
            "3  Worker 04    worker 04  worker04@example.com  worker04@example.com   \n",
            "4  Worker 05    worker 05  worker05@example.com  worker05@example.com   \n",
            "\n",
            "    Position Vendor Type       City  \n",
            "0     Tech I    Employee  Charlotte  \n",
            "1  Lead Tech    Employee    Chicago  \n",
            "2    Tech II    Employee  Charlotte  \n",
            "3     Tech I      Vendor     Austin  \n",
            "4     Tech I    Employee    Chicago   \n",
            "\n",
            "Summary (numeric + object mix):\n",
            "              count unique                   top freq\n",
            "Name             40     40             Worker 01    1\n",
            "cleaned_name     40     40             worker 01    1\n",
            "Email            40     40  worker01@example.com    1\n",
            "cleaned_email    40     40  worker01@example.com    1\n",
            "Position         40      4               Tech II   13\n",
            "Vendor Type      40      2              Employee   21\n",
            "City             40      6             Charlotte   10 \n",
            "\n",
            "Missing value count:\n",
            "Name             0\n",
            "cleaned_name     0\n",
            "Email            0\n",
            "cleaned_email    0\n",
            "Position         0\n",
            "Vendor Type      0\n",
            "City             0\n",
            "dtype: int64 \n",
            "\n",
            "============================================================ \n",
            "\n"
          ]
        }
      ]
    },
    {
      "cell_type": "code",
      "source": [
        "quick_profile(issues_df, \"Issues Data\")"
      ],
      "metadata": {
        "colab": {
          "base_uri": "https://localhost:8080/"
        },
        "collapsed": true,
        "id": "1x_knlapSVop",
        "outputId": "8f2f1787-bd21-4310-e1fd-06b17e1d9283"
      },
      "execution_count": 12,
      "outputs": [
        {
          "output_type": "stream",
          "name": "stdout",
          "text": [
            "=== Issues Data ===\n",
            "Shape: 3000 rows × 22 columns\n",
            "\n",
            "Columns:\n",
            "['Vendor Name', 'Vendor Type', 'WO#', 'Unit', 'Address', 'City', 'State', 'Zip', 'Type', 'Date Completed', 'Date Created', 'Description', 'Start Date', 'Status', 'Email', 'Duration', 'Status Mark', 'Priority Tags', 'City by Name', 'Date Created (MY)', 'Cleaned Name', 'Cleaned Email'] \n",
            "\n",
            "Head (first 5 rows):\n",
            "  Vendor Name Vendor Type     WO#     Unit       Address       City State  \\\n",
            "0   Worker 20      Vendor  100000   Apt 92  5586 Main St  Charlotte    TX   \n",
            "1   Worker 28      Vendor  100001  Apt 139  5718 Main St     Austin    TX   \n",
            "2   Worker 13      Vendor  100002  Apt 231  6992 Main St     Austin    TX   \n",
            "3   Worker 21    Employee  100003  Apt 113  1736 Main St     Dallas    TX   \n",
            "4   Worker 13      Vendor  100004  Apt 338  4836 Main St     Austin    TX   \n",
            "\n",
            "     Zip                Type      Date Completed  ...  Start Date  \\\n",
            "0  33483  Move In Inspection                 NaT  ...  2025-03-14   \n",
            "1  49504  Move In Inspection                 NaT  ...  2025-03-29   \n",
            "2  77214                Turn                 NaT  ...  2025-03-04   \n",
            "3  95616  Move In Inspection 2025-02-21 11:00:00  ...  2025-02-21   \n",
            "4  11802                Turn 2025-05-27 19:00:00  ...  2025-05-27   \n",
            "\n",
            "        Status                 Email Duration  Status Mark  Priority Tags  \\\n",
            "0  In Progress  worker20@example.com        0  In Progress         Normal   \n",
            "1         Open  worker28@example.com        4         Open           High   \n",
            "2  In Progress  worker13@example.com        7  In Progress           High   \n",
            "3    Completed  worker21@example.com        0    Completed            Low   \n",
            "4    Completed  worker13@example.com        0    Completed         Normal   \n",
            "\n",
            "  City by Name Date Created (MY) Cleaned Name         Cleaned Email  \n",
            "0    Charlotte           2025-03    worker 20  worker20@example.com  \n",
            "1       Austin           2025-03    worker 28  worker28@example.com  \n",
            "2       Austin           2025-03    worker 13  worker13@example.com  \n",
            "3       Dallas           2025-02    worker 21  worker21@example.com  \n",
            "4       Austin           2025-05    worker 13  worker13@example.com  \n",
            "\n",
            "[5 rows x 22 columns] \n",
            "\n",
            "Summary (numeric + object mix):\n",
            "                    count unique                          top  freq  \\\n",
            "Vendor Name          3000     40                    Worker 32    92   \n",
            "Vendor Type          3000      2                     Employee  1626   \n",
            "WO#                3000.0    NaN                          NaN   NaN   \n",
            "Unit                 3000    398                      Apt 151    16   \n",
            "Address              3000   2584                 7151 Main St     4   \n",
            "City                 3000      6                    Charlotte   772   \n",
            "State                3000      1                           TX  3000   \n",
            "Zip                  3000   2949                        71009     2   \n",
            "Type                 3000      3           Move In Inspection  1245   \n",
            "Date Completed       2081    NaN                          NaN   NaN   \n",
            "Date Created         3000    NaN                          NaN   NaN   \n",
            "Description          3000      3  Move In Inspection for unit  1245   \n",
            "Start Date           3000    181                   2025-03-08    28   \n",
            "Status               3000      3                    Completed  2081   \n",
            "Email                3000     40         worker32@example.com    92   \n",
            "Duration           3000.0    NaN                          NaN   NaN   \n",
            "Status Mark          3000      3                    Completed  2081   \n",
            "Priority Tags        3000      3                       Normal  2102   \n",
            "City by Name         3000      6                    Charlotte   772   \n",
            "Date Created (MY)    3000      6                      2025-05   557   \n",
            "Cleaned Name         3000     40                    worker 32    92   \n",
            "Cleaned Email        3000     40         worker32@example.com    92   \n",
            "\n",
            "                                            mean                  min  \\\n",
            "Vendor Name                                  NaN                  NaN   \n",
            "Vendor Type                                  NaN                  NaN   \n",
            "WO#                                     101499.5             100000.0   \n",
            "Unit                                         NaN                  NaN   \n",
            "Address                                      NaN                  NaN   \n",
            "City                                         NaN                  NaN   \n",
            "State                                        NaN                  NaN   \n",
            "Zip                                          NaN                  NaN   \n",
            "Type                                         NaN                  NaN   \n",
            "Date Completed     2025-04-04 10:27:14.790966016  2025-01-01 03:00:00   \n",
            "Date Created                 2025-04-02 00:17:30  2025-01-01 03:00:00   \n",
            "Description                                  NaN                  NaN   \n",
            "Start Date                                   NaN                  NaN   \n",
            "Status                                       NaN                  NaN   \n",
            "Email                                        NaN                  NaN   \n",
            "Duration                                2.143667                  0.0   \n",
            "Status Mark                                  NaN                  NaN   \n",
            "Priority Tags                                NaN                  NaN   \n",
            "City by Name                                 NaN                  NaN   \n",
            "Date Created (MY)                            NaN                  NaN   \n",
            "Cleaned Name                                 NaN                  NaN   \n",
            "Cleaned Email                                NaN                  NaN   \n",
            "\n",
            "                                   25%                  50%  \\\n",
            "Vendor Name                        NaN                  NaN   \n",
            "Vendor Type                        NaN                  NaN   \n",
            "WO#                          100749.75             101499.5   \n",
            "Unit                               NaN                  NaN   \n",
            "Address                            NaN                  NaN   \n",
            "City                               NaN                  NaN   \n",
            "State                              NaN                  NaN   \n",
            "Zip                                NaN                  NaN   \n",
            "Type                               NaN                  NaN   \n",
            "Date Completed     2025-02-19 23:00:00  2025-04-04 06:00:00   \n",
            "Date Created       2025-02-17 04:45:00  2025-04-02 03:00:00   \n",
            "Description                        NaN                  NaN   \n",
            "Start Date                         NaN                  NaN   \n",
            "Status                             NaN                  NaN   \n",
            "Email                              NaN                  NaN   \n",
            "Duration                           1.0                  2.0   \n",
            "Status Mark                        NaN                  NaN   \n",
            "Priority Tags                      NaN                  NaN   \n",
            "City by Name                       NaN                  NaN   \n",
            "Date Created (MY)                  NaN                  NaN   \n",
            "Cleaned Name                       NaN                  NaN   \n",
            "Cleaned Email                      NaN                  NaN   \n",
            "\n",
            "                                   75%                  max         std  \n",
            "Vendor Name                        NaN                  NaN         NaN  \n",
            "Vendor Type                        NaN                  NaN         NaN  \n",
            "WO#                          102249.25             102999.0  866.169729  \n",
            "Unit                               NaN                  NaN         NaN  \n",
            "Address                            NaN                  NaN         NaN  \n",
            "City                               NaN                  NaN         NaN  \n",
            "State                              NaN                  NaN         NaN  \n",
            "Zip                                NaN                  NaN         NaN  \n",
            "Type                               NaN                  NaN         NaN  \n",
            "Date Completed     2025-05-19 17:00:00  2025-07-06 23:00:00         NaN  \n",
            "Date Created       2025-05-16 23:00:00  2025-06-30 23:00:00         NaN  \n",
            "Description                        NaN                  NaN         NaN  \n",
            "Start Date                         NaN                  NaN         NaN  \n",
            "Status                             NaN                  NaN         NaN  \n",
            "Email                              NaN                  NaN         NaN  \n",
            "Duration                           3.0                  8.0     1.62724  \n",
            "Status Mark                        NaN                  NaN         NaN  \n",
            "Priority Tags                      NaN                  NaN         NaN  \n",
            "City by Name                       NaN                  NaN         NaN  \n",
            "Date Created (MY)                  NaN                  NaN         NaN  \n",
            "Cleaned Name                       NaN                  NaN         NaN  \n",
            "Cleaned Email                      NaN                  NaN         NaN   \n",
            "\n",
            "Missing value count:\n",
            "Vendor Name            0\n",
            "Vendor Type            0\n",
            "WO#                    0\n",
            "Unit                   0\n",
            "Address                0\n",
            "City                   0\n",
            "State                  0\n",
            "Zip                    0\n",
            "Type                   0\n",
            "Date Completed       919\n",
            "Date Created           0\n",
            "Description            0\n",
            "Start Date             0\n",
            "Status                 0\n",
            "Email                  0\n",
            "Duration               0\n",
            "Status Mark            0\n",
            "Priority Tags          0\n",
            "City by Name           0\n",
            "Date Created (MY)      0\n",
            "Cleaned Name           0\n",
            "Cleaned Email          0\n",
            "dtype: int64 \n",
            "\n",
            "============================================================ \n",
            "\n"
          ]
        }
      ]
    },
    {
      "cell_type": "markdown",
      "source": [
        "### Build Database"
      ],
      "metadata": {
        "id": "gOPxQgWrStJk"
      }
    },
    {
      "cell_type": "markdown",
      "source": [
        "#### Bronze"
      ],
      "metadata": {
        "id": "ru3FY-ydSvVH"
      }
    },
    {
      "cell_type": "markdown",
      "source": [
        "Here for raw data storage.\n",
        "\n",
        "Purpose:\n",
        "*   Store raw, unmodified data exactly as received from the source.\n",
        "*   Create a \"single source of truth\" that can be reloaded or audited later.\n",
        "\n",
        "User/Creater Note:\n",
        "*   No clean or transform in Bronze - Keep original format.\n",
        "*   Load from CSV, API, external DB ect.\n",
        "*   Use CREATE OR REPLACE TABLE for idempotency.\n",
        "*   Save metadata if possible.\n",
        "\n",
        "Check List:\n",
        "*   Row count matches the source.\n",
        "*   All expected columns present.\n",
        "*   Key (IDs) and dates look valid (no corruption)\n",
        "*   Encoding and data types are correct (no garbled characters)"
      ],
      "metadata": {
        "id": "prZVk6XyTOaI"
      }
    },
    {
      "cell_type": "code",
      "source": [
        "# 1) Register DataFrames as temp views\n",
        "## this step allow duckdb see the data\n",
        "con.register(\"people\", people_df) # register people_df as table name people\n",
        "con.register(\"issues\", issues_df)\n",
        "\n",
        "# 2) Create bronze schema and persist raw tables\n",
        "## 2.1 issues table\n",
        "con.sql(\"CREATE SCHEMA IF NOT EXISTS bronze\")\n",
        "# Raw work orders\n",
        "con.sql(\"CREATE OR REPLACE TABLE bronze.move_in_issues_raw AS SELECT * FROM issues\")\n",
        "\n",
        "## 2.2 raw bonus-master \"shell\" built from people list (placeholders for KPIs)\n",
        "con.sql(\"\"\"\n",
        "CREATE OR REPLACE TABLE bronze.bonus_master_raw AS\n",
        "SELECT\n",
        "  City                        AS \"City\",\n",
        "  Name                        AS \"Name\",\n",
        "  Position                    AS \"Position\",\n",
        "  0                             AS \"Total Rehabs\",\n",
        "  0                             AS \"Total Turns\",\n",
        "  0                             AS \"Rehab+Turn\",\n",
        "  NULL::DOUBLE                  AS \"Completion %\",\n",
        "  0                             AS \"# of property with move in issues\",\n",
        "  0                             AS \"# of valid move in issues\",\n",
        "  0                             AS \"Late Arrival\",\n",
        "  0                             AS \"Daily Logs\",\n",
        "  NULL::DOUBLE                  AS \"Daily Logs %\",\n",
        "  0                             AS \"Turns more than 3 days to scope\",\n",
        "  0                             AS \"Rehabs more than 5 days to scope\",\n",
        "  0                             AS \"More than 2 days to create profile\",\n",
        "  0                             AS \"Wrong title in BT\",\n",
        "  0                             AS \"Missing Job title in SF\",\n",
        "  0                             AS \"More than 2 days to release scope to GC\",\n",
        "  0                             AS \"Incorrect PO creation\",\n",
        "  '2025-Q1Q2'                   AS \"Period\"\n",
        "FROM people;                 -- use the temp view name you registered\n",
        "\"\"\")"
      ],
      "metadata": {
        "id": "caMKMtFLOS0i"
      },
      "execution_count": null,
      "outputs": []
    },
    {
      "cell_type": "markdown",
      "source": [
        "Verify tables exist, row counts match expectations, sample rows look sane, and key/date health is okay."
      ],
      "metadata": {
        "id": "wIQIS3BtWU1x"
      }
    },
    {
      "cell_type": "code",
      "source": [
        "# 3) Sanity Checks\n",
        "## List bronze tables\n",
        "print(con.sql(\"\"\"\n",
        "SELECT table_schema, table_name\n",
        "FROM information_schema.tables\n",
        "WHERE table_schema = 'bronze'\n",
        "ORDER BY table_name;\n",
        "\"\"\").df())"
      ],
      "metadata": {
        "colab": {
          "base_uri": "https://localhost:8080/"
        },
        "id": "Cm3Yn7bdWThV",
        "outputId": "59606191-6352-4b7f-bb19-bab388ccb097"
      },
      "execution_count": 34,
      "outputs": [
        {
          "output_type": "stream",
          "name": "stdout",
          "text": [
            "  table_schema          table_name\n",
            "0       bronze    bonus_master_raw\n",
            "1       bronze  move_in_issues_raw\n"
          ]
        }
      ]
    },
    {
      "cell_type": "code",
      "source": [
        "## row counts for both raw tables\n",
        "print(\"Row counts:\")\n",
        "print(con.sql(\"\"\"\n",
        "SELECT 'move_in_issues_raw' AS table_name, COUNT(*) AS rows FROM bronze.move_in_issues_raw\n",
        "UNION ALL\n",
        "SELECT 'bonus_master_raw' , COUNT(*) FROM bronze.bonus_master_raw\n",
        "\"\"\").df(), \"\\n\")"
      ],
      "metadata": {
        "colab": {
          "base_uri": "https://localhost:8080/"
        },
        "id": "M-cfAKSSYVvp",
        "outputId": "8d1bd531-0173-45f7-bcac-91aad369da2a"
      },
      "execution_count": 35,
      "outputs": [
        {
          "output_type": "stream",
          "name": "stdout",
          "text": [
            "Row counts:\n",
            "           table_name  rows\n",
            "0  move_in_issues_raw  3000\n",
            "1    bonus_master_raw    40 \n",
            "\n"
          ]
        }
      ]
    },
    {
      "cell_type": "code",
      "source": [
        "## sample first few rows\n",
        "print(con.sql(\"SELECT * FROM bronze.move_in_issues_raw LIMIT 3；\").df())"
      ],
      "metadata": {
        "id": "dXgR4wb_YY3K"
      },
      "execution_count": null,
      "outputs": []
    },
    {
      "cell_type": "code",
      "source": [
        "print(con.sql(\"SELECT * FROM bronze.bonus_master_raw LIMIT 3；\").df())"
      ],
      "metadata": {
        "id": "AqGbEBhDY1vU"
      },
      "execution_count": null,
      "outputs": []
    },
    {
      "cell_type": "code",
      "source": [
        "## key & date health check for work orders\n",
        "print(\"WO key & date health check:\")\n",
        "print(con.sql(\"\"\"\n",
        "SELECT\n",
        "  COUNT(*)                              AS rows,\n",
        "  COUNT(DISTINCT \"WO#\")                 AS distinct_wo,\n",
        "  SUM(CASE WHEN \"WO#\" IS NULL THEN 1 ELSE 0 END) AS wo_nulls,\n",
        "  MIN(\"Date Created\") AS min_created,\n",
        "  MAX(\"Date Created\") AS max_created,\n",
        "  MIN(\"Date Completed\") AS min_completed,\n",
        "  MAX(\"Date Completed\") AS max_completed\n",
        "FROM bronze.move_in_issues_raw;\n",
        "\"\"\").df())"
      ],
      "metadata": {
        "colab": {
          "base_uri": "https://localhost:8080/"
        },
        "id": "2qyT4bRcYlDW",
        "outputId": "020e09fc-a4f9-4800-fa7c-523e30e4fcd1"
      },
      "execution_count": 38,
      "outputs": [
        {
          "output_type": "stream",
          "name": "stdout",
          "text": [
            "WO key & date health check:\n",
            "   rows  distinct_wo  wo_nulls         min_created         max_created  \\\n",
            "0  3000         3000       0.0 2025-01-01 03:00:00 2025-06-30 23:00:00   \n",
            "\n",
            "        min_completed       max_completed  \n",
            "0 2025-01-01 03:00:00 2025-07-06 23:00:00  \n"
          ]
        }
      ]
    },
    {
      "cell_type": "markdown",
      "source": [
        "#### Silver"
      ],
      "metadata": {
        "id": "bEtB8R10ZyW0"
      }
    },
    {
      "cell_type": "markdown",
      "source": [
        "Purpose:\n",
        "*   Apply cleaning and normalization so that downstream processes use consistent formats.\n",
        "*   Fix naming issues, data types, nulls, and create stable IDs for entities.\n",
        "\n",
        "User/ Creater Note:\n",
        "*   Standardize keys (such as cleaned_name).\n",
        "*   Convert date strings to proper DATE.\n",
        "*   Normalize Categories (such as Move In and move_in all to Move In).\n",
        "*   Cerate dimension tables like dim_person and fact tables with relationships.\n",
        "\n",
        "Check List:\n",
        "*   No duplicates in keys.\n",
        "*   Nulls are handled according to business rules.\n",
        "*   Consistent naming, types and categories.\n",
        "*   Joins to dimensions work correctly."
      ],
      "metadata": {
        "id": "2eGe2eNoaH_m"
      }
    },
    {
      "cell_type": "code",
      "source": [
        "!git config --global user.name \"yijiaw0725\"\n",
        "!git config --global user.email \"yijiaw0725@gmail.com\""
      ],
      "metadata": {
        "id": "HMoRxV8rdIdo"
      },
      "execution_count": 44,
      "outputs": []
    },
    {
      "cell_type": "code",
      "source": [
        "!git clone https://github.com/yijiaw0725/DataScience-Portfolio-yijia.git\n",
        "%cd DataScience-Portfolio-yijia"
      ],
      "metadata": {
        "colab": {
          "base_uri": "https://localhost:8080/"
        },
        "id": "x0NCgI-0dRcH",
        "outputId": "0b210e9c-0357-44ec-95ce-7df38ccc623b"
      },
      "execution_count": 45,
      "outputs": [
        {
          "output_type": "stream",
          "name": "stdout",
          "text": [
            "Cloning into 'DataScience-Portfolio-yijia'...\n",
            "remote: Enumerating objects: 91, done.\u001b[K\n",
            "remote: Counting objects: 100% (91/91), done.\u001b[K\n",
            "remote: Compressing objects: 100% (80/80), done.\u001b[K\n",
            "remote: Total 91 (delta 22), reused 0 (delta 0), pack-reused 0 (from 0)\u001b[K\n",
            "Receiving objects: 100% (91/91), 15.22 MiB | 11.82 MiB/s, done.\n",
            "Resolving deltas: 100% (22/22), done.\n",
            "/content/DataScience-Portfolio-yijia\n"
          ]
        }
      ]
    },
    {
      "cell_type": "code",
      "source": [
        "!pwd"
      ],
      "metadata": {
        "colab": {
          "base_uri": "https://localhost:8080/"
        },
        "id": "d8PEciMcgUiX",
        "outputId": "404b4dd4-f3c7-458e-f55a-949cfefc372a"
      },
      "execution_count": 50,
      "outputs": [
        {
          "output_type": "stream",
          "name": "stdout",
          "text": [
            "/content/DataScience-Portfolio-yijia\n"
          ]
        }
      ]
    },
    {
      "cell_type": "code",
      "source": [
        "!cp /content/Construction_ETL.ipynb \"/content/DataScience-Portfolio-yijia/Data Engineering ETL Pipeline/\""
      ],
      "metadata": {
        "colab": {
          "base_uri": "https://localhost:8080/"
        },
        "id": "3xJA9g9Df1Zk",
        "outputId": "66872868-a497-4c01-9405-982ef9d02c43"
      },
      "execution_count": 51,
      "outputs": [
        {
          "output_type": "stream",
          "name": "stdout",
          "text": [
            "cp: cannot stat '/content/Construction_ETL.ipynb': No such file or directory\n"
          ]
        }
      ]
    },
    {
      "cell_type": "code",
      "source": [],
      "metadata": {
        "id": "DpbUScW9bion"
      },
      "execution_count": null,
      "outputs": []
    }
  ]
}