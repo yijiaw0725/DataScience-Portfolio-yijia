{
 "cells": [
  {
   "cell_type": "markdown",
   "id": "d7aced1d",
   "metadata": {},
   "source": [
    "## Data Related Position Salaries 2023"
   ]
  },
  {
   "cell_type": "markdown",
   "id": "3e94303a",
   "metadata": {},
   "source": [
    "📁 Project Overview\n",
    "This project explores the 2020 - 2023  (mainly 2022-2023) Data Science Salary dataset from Kaggle. It focuses on understanding compensation trends across job roles, regions, experience levels, and company types within the data industry.\n",
    "\n",
    "The analysis aims to uncover insights into global salary patterns and workplace structures in the data science domain.\n",
    "\n",
    "📂 Dataset Info\n",
    "Source: Kaggle\n",
    "\n",
    "File: data-science-salaries-2023.csv\n",
    "\n",
    "Key columns:\n",
    "\n",
    "job_title\n",
    "\n",
    "salary_in_usd\n",
    "\n",
    "experience_level (EN, MI, SE, EX)\n",
    "\n",
    "employment_type (FT, PT, CT, FL)\n",
    "\n",
    "remote_ratio (0 = On-site, 50 = Hybrid, 100 = Remote)\n",
    "\n",
    "company_location, employee_residence"
   ]
  },
  {
   "cell_type": "code",
   "execution_count": 2,
   "id": "ac168d70",
   "metadata": {},
   "outputs": [],
   "source": [
    "import os\n",
    "import zipfile\n",
    "import pandas as pd\n",
    "import seaborn as sns\n",
    "import matplotlib.pyplot as plt\n",
    "import matplotlib.ticker as ticker\n",
    "import plotly.express as px\n",
    "import pycountry"
   ]
  },
  {
   "cell_type": "code",
   "execution_count": null,
   "id": "b3e6fca7",
   "metadata": {},
   "outputs": [],
   "source": [
    "# Set the Kaggle configuration directory (temporarily for this script)\n",
    "os.environ['KAGGLE_CONFIG_DIR'] = r'C:\\Users\\Yijia Wang\\Desktop\\Training\\.kaggle'"
   ]
  },
  {
   "cell_type": "code",
   "execution_count": null,
   "id": "465e0dbe",
   "metadata": {},
   "outputs": [
    {
     "name": "stdout",
     "output_type": "stream",
     "text": [
      "Dataset URL: https://www.kaggle.com/datasets/arnabchaki/data-science-salaries-2023"
     ]
    },
    {
     "name": "stderr",
     "output_type": "stream",
     "text": [
      "\n",
      "  0%|          | 0.00/25.4k [00:00<?, ?B/s]\n",
      "100%|██████████| 25.4k/25.4k [00:00<00:00, 3.60MB/s]\n"
     ]
    },
    {
     "name": "stdout",
     "output_type": "stream",
     "text": [
      "\n",
      "License(s): DbCL-1.0\n",
      "Downloading data-science-salaries-2023.zip to c:\\Users\\Yijia Wang\\Desktop\\Training\\Self_Project\n",
      "\n"
     ]
    }
   ],
   "source": [
    "# load the kaggle dataset\n",
    "# https://www.kaggle.com/datasets/arnabchaki/data-science-salaries-2023\n",
    "!kaggle datasets download -d arnabchaki/data-science-salaries-2023"
   ]
  },
  {
   "cell_type": "code",
   "execution_count": 5,
   "id": "dfc593fb",
   "metadata": {},
   "outputs": [
    {
     "name": "stdout",
     "output_type": "stream",
     "text": [
      "unzip completed successfully.\n"
     ]
    }
   ],
   "source": [
    "# set the path for the zip file and extraction directory\n",
    "zip_path = r\"c:\\Users\\Yijia Wang\\Desktop\\Training\\Self_Project\\DS_JOB_MARKET\\data-science-salaries-2023.zip\"\n",
    "extract_path = r\"c:\\Users\\Yijia Wang\\Desktop\\Training\\Self_Project\\DS_JOB_MARKET\"\n",
    "\n",
    "# upzip the downloaded file\n",
    "with zipfile.ZipFile(zip_path, 'r') as zip_ref:\n",
    "    zip_ref.extractall(extract_path)\n",
    "\n",
    "print(\"unzip completed successfully.\")"
   ]
  },
  {
   "cell_type": "code",
   "execution_count": 6,
   "id": "75d8a6b3",
   "metadata": {},
   "outputs": [
    {
     "data": {
      "text/html": [
       "<div>\n",
       "<style scoped>\n",
       "    .dataframe tbody tr th:only-of-type {\n",
       "        vertical-align: middle;\n",
       "    }\n",
       "\n",
       "    .dataframe tbody tr th {\n",
       "        vertical-align: top;\n",
       "    }\n",
       "\n",
       "    .dataframe thead th {\n",
       "        text-align: right;\n",
       "    }\n",
       "</style>\n",
       "<table border=\"1\" class=\"dataframe\">\n",
       "  <thead>\n",
       "    <tr style=\"text-align: right;\">\n",
       "      <th></th>\n",
       "      <th>work_year</th>\n",
       "      <th>experience_level</th>\n",
       "      <th>employment_type</th>\n",
       "      <th>job_title</th>\n",
       "      <th>salary</th>\n",
       "      <th>salary_currency</th>\n",
       "      <th>salary_in_usd</th>\n",
       "      <th>employee_residence</th>\n",
       "      <th>remote_ratio</th>\n",
       "      <th>company_location</th>\n",
       "      <th>company_size</th>\n",
       "    </tr>\n",
       "  </thead>\n",
       "  <tbody>\n",
       "    <tr>\n",
       "      <th>0</th>\n",
       "      <td>2023</td>\n",
       "      <td>SE</td>\n",
       "      <td>FT</td>\n",
       "      <td>Principal Data Scientist</td>\n",
       "      <td>80000</td>\n",
       "      <td>EUR</td>\n",
       "      <td>85847</td>\n",
       "      <td>ES</td>\n",
       "      <td>100</td>\n",
       "      <td>ES</td>\n",
       "      <td>L</td>\n",
       "    </tr>\n",
       "    <tr>\n",
       "      <th>1</th>\n",
       "      <td>2023</td>\n",
       "      <td>MI</td>\n",
       "      <td>CT</td>\n",
       "      <td>ML Engineer</td>\n",
       "      <td>30000</td>\n",
       "      <td>USD</td>\n",
       "      <td>30000</td>\n",
       "      <td>US</td>\n",
       "      <td>100</td>\n",
       "      <td>US</td>\n",
       "      <td>S</td>\n",
       "    </tr>\n",
       "    <tr>\n",
       "      <th>2</th>\n",
       "      <td>2023</td>\n",
       "      <td>MI</td>\n",
       "      <td>CT</td>\n",
       "      <td>ML Engineer</td>\n",
       "      <td>25500</td>\n",
       "      <td>USD</td>\n",
       "      <td>25500</td>\n",
       "      <td>US</td>\n",
       "      <td>100</td>\n",
       "      <td>US</td>\n",
       "      <td>S</td>\n",
       "    </tr>\n",
       "    <tr>\n",
       "      <th>3</th>\n",
       "      <td>2023</td>\n",
       "      <td>SE</td>\n",
       "      <td>FT</td>\n",
       "      <td>Data Scientist</td>\n",
       "      <td>175000</td>\n",
       "      <td>USD</td>\n",
       "      <td>175000</td>\n",
       "      <td>CA</td>\n",
       "      <td>100</td>\n",
       "      <td>CA</td>\n",
       "      <td>M</td>\n",
       "    </tr>\n",
       "    <tr>\n",
       "      <th>4</th>\n",
       "      <td>2023</td>\n",
       "      <td>SE</td>\n",
       "      <td>FT</td>\n",
       "      <td>Data Scientist</td>\n",
       "      <td>120000</td>\n",
       "      <td>USD</td>\n",
       "      <td>120000</td>\n",
       "      <td>CA</td>\n",
       "      <td>100</td>\n",
       "      <td>CA</td>\n",
       "      <td>M</td>\n",
       "    </tr>\n",
       "  </tbody>\n",
       "</table>\n",
       "</div>"
      ],
      "text/plain": [
       "   work_year experience_level employment_type                 job_title  \\\n",
       "0       2023               SE              FT  Principal Data Scientist   \n",
       "1       2023               MI              CT               ML Engineer   \n",
       "2       2023               MI              CT               ML Engineer   \n",
       "3       2023               SE              FT            Data Scientist   \n",
       "4       2023               SE              FT            Data Scientist   \n",
       "\n",
       "   salary salary_currency  salary_in_usd employee_residence  remote_ratio  \\\n",
       "0   80000             EUR          85847                 ES           100   \n",
       "1   30000             USD          30000                 US           100   \n",
       "2   25500             USD          25500                 US           100   \n",
       "3  175000             USD         175000                 CA           100   \n",
       "4  120000             USD         120000                 CA           100   \n",
       "\n",
       "  company_location company_size  \n",
       "0               ES            L  \n",
       "1               US            S  \n",
       "2               US            S  \n",
       "3               CA            M  \n",
       "4               CA            M  "
      ]
     },
     "execution_count": 6,
     "metadata": {},
     "output_type": "execute_result"
    }
   ],
   "source": [
    "csv_path = os.path.join(extract_path, \"ds_salaries.csv\")\n",
    "salary = pd.read_csv(csv_path)\n",
    "salary.head()"
   ]
  },
  {
   "cell_type": "code",
   "execution_count": 30,
   "id": "8af664f8",
   "metadata": {},
   "outputs": [],
   "source": [
    "# change column 'remote_ratio' to categorical and map 100% to 'remote', 50% to 'hybrid', and 0% to 'on-site'\n",
    "salary['remote_ratio'] = salary['remote_ratio'].map({\n",
    "    100: 'remote',\n",
    "    50: 'hybrid',\n",
    "    0: 'on-site'\n",
    "})\n",
    "salary['remote_ratio'] = salary['remote_ratio'].astype('category')"
   ]
  },
  {
   "cell_type": "code",
   "execution_count": 31,
   "id": "a9d3e3da",
   "metadata": {},
   "outputs": [],
   "source": [
    "# change column 'experience_level' to categorical and map 'EN' to 'entry', 'MI' to 'mid', 'SE' to 'senior', and 'EX' to 'executive'\n",
    "salary['experience_level'] = salary['experience_level'].map({\n",
    "    'EN': 'entry',\n",
    "    'MI': 'mid',\n",
    "    'SE': 'senior',\n",
    "    'EX': 'executive'\n",
    "})"
   ]
  },
  {
   "cell_type": "code",
   "execution_count": 32,
   "id": "312a57e5",
   "metadata": {},
   "outputs": [],
   "source": [
    "# Write a function to format y-axis labels as dollar amounts\n",
    "def format_y_as_dollar(ax=None):\n",
    "    if ax is None:\n",
    "        ax = plt.gca()\n",
    "    ax.yaxis.set_major_formatter(ticker.FuncFormatter(lambda x, _: f'${x:,.0f}'))\n"
   ]
  },
  {
   "cell_type": "code",
   "execution_count": 9,
   "id": "18ddba36",
   "metadata": {},
   "outputs": [],
   "source": [
    "# Pack the salary boxplot function which can be used to visualize the salary distribution by different categories\n",
    "def salary_boxplot(\n",
    "    data,\n",
    "    x,\n",
    "    y='salary_in_usd',\n",
    "    palette='Set3',\n",
    "    showfliers=False,\n",
    "    rotate_xticks=True,\n",
    "    xtick_angle=45,\n",
    "    xlabel_fontsize=10,\n",
    "    title='Salary Distribution',\n",
    "    xlabel=None,\n",
    "    ylabel='Salary',\n",
    "    figsize=(12, 6),\n",
    "    format_y=True\n",
    "):\n",
    "    plt.figure(figsize=figsize)\n",
    "    \n",
    "    sns.boxplot(x=x, y=y, hue=x, data=data, palette=palette, legend=False, showfliers=showfliers)\n",
    "    \n",
    "    if rotate_xticks:\n",
    "        plt.xticks(rotation=xtick_angle, fontsize=xlabel_fontsize)\n",
    "    \n",
    "    plt.title(title, fontsize=14, weight='bold')\n",
    "    plt.suptitle('Data Science Salaries 2023 (USD)', fontsize=10, y=1.02, color='gray')\n",
    "    \n",
    "    # default xlabel is the x column name with spaces instead of underscores\n",
    "    if xlabel:\n",
    "        plt.xlabel(xlabel)\n",
    "    else:\n",
    "        plt.xlabel(x.replace('_', ' ').title())\n",
    "    \n",
    "    plt.ylabel(ylabel)\n",
    "    \n",
    "    if format_y:\n",
    "        format_y_as_dollar()\n",
    "    \n",
    "    plt.tight_layout()\n",
    "    plt.show()"
   ]
  },
  {
   "cell_type": "markdown",
   "id": "f70fee68",
   "metadata": {},
   "source": [
    "### EDA"
   ]
  },
  {
   "cell_type": "code",
   "execution_count": 10,
   "id": "9a6d1f5d",
   "metadata": {},
   "outputs": [
    {
     "data": {
      "image/png": "[encoded data removed]",
      "text/plain": [
       "<Figure size 1200x600 with 1 Axes>"
      ]
     },
     "metadata": {},
     "output_type": "display_data"
    }
   ],
   "source": [
    "# Boxplot for salary vs company location\n",
    "# remove outliers for better visualization\n",
    "# filter out locations with only a few entries(less than 10)\n",
    "valid_locations = salary['company_location'].value_counts()\n",
    "valid_locations = valid_locations[valid_locations > 10].index\n",
    "major_country = salary[salary['company_location'].isin(valid_locations)]\n",
    "salary_boxplot(data=major_country, x='company_location', title='Salary Distribution by Company Location')"
   ]
  },
  {
   "cell_type": "markdown",
   "id": "fd3c0e5c",
   "metadata": {},
   "source": [
    "<small>\n",
    "\n",
    "**Country Code Reference Table:**\n",
    "\n",
    "| Code | Country       |\n",
    "|------|---------------|\n",
    "| ES   | Spain         |\n",
    "| US   | America       |\n",
    "| CA   | Canada        |\n",
    "| DE   | Germany       |\n",
    "| GB   | England       |\n",
    "| NL   | Netherlands   |\n",
    "| FR   | France        |\n",
    "| AU   | Australia     |\n",
    "| BR   | Brazil        |\n",
    "| PT   | Portugal      |\n",
    "| GR   | Greece        |"
   ]
  },
  {
   "cell_type": "code",
   "execution_count": 11,
   "id": "c68e483a",
   "metadata": {},
   "outputs": [],
   "source": [
    "# build a function to convert alpha-2 country codes to alpha-3 codes\n",
    "def alpha2_to_alpha3(alpha2):\n",
    "    try:\n",
    "        return pycountry.countries.get(alpha_2=alpha2).alpha_3\n",
    "    except:\n",
    "        return None"
   ]
  },
  {
   "cell_type": "code",
   "execution_count": 12,
   "id": "a9e57d5d",
   "metadata": {},
   "outputs": [
    {
     "data": {
      "application/vnd.plotly.v1+json": {
       "config": {
        "plotlyServerURL": "https://plot.ly"
       },
       "data": [
        {
         "coloraxis": "coloraxis",
         "geo": "geo",
         "hovertemplate": "country_code=%{location}<br>Avg Salary=%{z}<extra></extra>",
         "locations": [
          "ARE",
          "ALB",
          "ARM",
          "ARG",
          "ASM",
          "AUT",
          "AUS",
          "BIH",
          "BEL",
          "BOL",
          "BRA",
          "BHS",
          "CAN",
          "CAF",
          "CHE",
          "CHL",
          "CHN",
          "COL",
          "CRI",
          "CZE",
          "DEU",
          "DNK",
          "DZA",
          "EST",
          "EGY",
          "ESP",
          "FIN",
          "FRA",
          "GBR",
          "GHA",
          "GRC",
          "HKG",
          "HND",
          "HRV",
          "HUN",
          "IDN",
          "IRL",
          "ISR",
          "IND",
          "IRQ",
          "IRN",
          "ITA",
          "JPN",
          "KEN",
          "LTU",
          "LUX",
          "LVA",
          "MAR",
          "MDA",
          "MKD",
          "MLT",
          "MEX",
          "MYS",
          "NGA",
          "NLD",
          "NZL",
          "PHL",
          "PAK",
          "POL",
          "PRI",
          "PRT",
          "ROU",
          "RUS",
          "SWE",
          "SGP",
          "SVN",
          "SVK",
          "THA",
          "TUR",
          "UKR",
          "USA",
          "VNM"
         ],
         "name": "",
         "type": "choropleth",
         "z": {
          "bdata": "AAAAAABq+EAAAAAAAIjDQAAAAAAAauhAAAAAAABq2EAAAAAAwKncQFVVVVWta/FA27Zt2xaK80AAAAAAAEz9QAAAAAAMxPJAAAAAAABMvUBmZmZmZtDjQAAAAABgPuZAWO5phG0aAEEAAAAAILznQAAAAACg8/NAAAAAAMCM40AAAAAAAGr4QAAAAAAguO9AAAAAAABq6EAAAAAAADDhQNu2bdsMjvVAAAAAAMA+5kAAAAAAAGr4QAAAAAAAJ+dAAAAAAABE1kCIs/ITginsQKuqqqqKy/BAxMPDw6sl8EBNWVPWoDb1QAAAAAAAEdJAAAAAABBK6UAAAAAAwMTvQAAAAAAAiNNAq6qqqvqL8kAAAAAAYBXaQAAAAAAAtOBA27Zt2/YP/EAAAAAAWpEQQfc0wnJvfd1AAAAAAABq+EAAAAAAAGr4QAAAAAA4KuRAVVVVVfXc+0AAAAAAgMvlQAAAAADAJfdAVVVVVdV05UAAAAAAUEvsQAAAAAAAiMNAAAAAAACU0UAAAAAAAKC4QAAAAABAtNtAmpmZmfG390AAAAAAAIjjQAAAAAAAC/NA7MRO7CQ580AAAAAAgIT+QAAAAAAAauhAAAAAAACI00CamZmZ2fPtQAAAAABgcgRB27Zt21at6EAAAAAAYL/rQKuqqqpqIQFBAAAAAICi+UAAAAAAYDXqQAAAAADYpe5AAAAAAACgyEBVVVVVFYbWQAAAAACAnNJAAAAAAEA/7EB8bokTcIgCQQAAAAAAcMdA",
          "dtype": "f8"
         }
        }
       ],
       "layout": {
        "coloraxis": {
         "colorbar": {
          "title": {
           "text": "Avg Salary"
          }
         },
         "colorscale": [
          [
           0,
           "#440154"
          ],
          [
           0.1111111111111111,
           "#482878"
          ],
          [
           0.2222222222222222,
           "#3e4989"
          ],
          [
           0.3333333333333333,
           "#31688e"
          ],
          [
           0.4444444444444444,
           "#26828e"
          ],
          [
           0.5555555555555556,
           "#1f9e89"
          ],
          [
           0.6666666666666666,
           "#35b779"
          ],
          [
           0.7777777777777778,
           "#6ece58"
          ],
          [
           0.8888888888888888,
           "#b5de2b"
          ],
          [
           1,
           "#fde725"
          ]
         ]
        },
        "geo": {
         "center": {},
         "domain": {
          "x": [
           0,
           1
          ],
          "y": [
           0,
           1
          ]
         },
         "projection": {
          "type": "natural earth"
         }
        },
        "legend": {
         "tracegroupgap": 0
        },
        "margin": {
         "b": 0,
         "l": 0,
         "r": 0,
         "t": 40
        },
        "template": {
         "data": {
          "bar": [
           {
            "error_x": {
             "color": "#2a3f5f"
            },
            "error_y": {
             "color": "#2a3f5f"
            },
            "marker": {
             "line": {
              "color": "#E5ECF6",
              "width": 0.5
             },
             "pattern": {
              "fillmode": "overlay",
              "size": 10,
              "solidity": 0.2
             }
            },
            "type": "bar"
           }
          ],
          "barpolar": [
           {
            "marker": {
             "line": {
              "color": "#E5ECF6",
              "width": 0.5
             },
             "pattern": {
              "fillmode": "overlay",
              "size": 10,
              "solidity": 0.2
             }
            },
            "type": "barpolar"
           }
          ],
          "carpet": [
           {
            "aaxis": {
             "endlinecolor": "#2a3f5f",
             "gridcolor": "white",
             "linecolor": "white",
             "minorgridcolor": "white",
             "startlinecolor": "#2a3f5f"
            },
            "baxis": {
             "endlinecolor": "#2a3f5f",
             "gridcolor": "white",
             "linecolor": "white",
             "minorgridcolor": "white",
             "startlinecolor": "#2a3f5f"
            },
            "type": "carpet"
           }
          ],
          "choropleth": [
           {
            "colorbar": {
             "outlinewidth": 0,
             "ticks": ""
            },
            "type": "choropleth"
           }
          ],
          "contour": [
           {
            "colorbar": {
             "outlinewidth": 0,
             "ticks": ""
            },
            "colorscale": [
             [
              0,
              "#0d0887"
             ],
             [
              0.1111111111111111,
              "#46039f"
             ],
             [
              0.2222222222222222,
              "#7201a8"
             ],
             [
              0.3333333333333333,
              "#9c179e"
             ],
             [
              0.4444444444444444,
              "#bd3786"
             ],
             [
              0.5555555555555556,
              "#d8576b"
             ],
             [
              0.6666666666666666,
              "#ed7953"
             ],
             [
              0.7777777777777778,
              "#fb9f3a"
             ],
             [
              0.8888888888888888,
              "#fdca26"
             ],
             [
              1,
              "#f0f921"
             ]
            ],
            "type": "contour"
           }
          ],
          "contourcarpet": [
           {
            "colorbar": {
             "outlinewidth": 0,
             "ticks": ""
            },
            "type": "contourcarpet"
           }
          ],
          "heatmap": [
           {
            "colorbar": {
             "outlinewidth": 0,
             "ticks": ""
            },
            "colorscale": [
             [
              0,
              "#0d0887"
             ],
             [
              0.1111111111111111,
              "#46039f"
             ],
             [
              0.2222222222222222,
              "#7201a8"
             ],
             [
              0.3333333333333333,
              "#9c179e"
             ],
             [
              0.4444444444444444,
              "#bd3786"
             ],
             [
              0.5555555555555556,
              "#d8576b"
             ],
             [
              0.6666666666666666,
              "#ed7953"
             ],
             [
              0.7777777777777778,
              "#fb9f3a"
             ],
             [
              0.8888888888888888,
              "#fdca26"
             ],
             [
              1,
              "#f0f921"
             ]
            ],
            "type": "heatmap"
           }
          ],
          "histogram": [
           {
            "marker": {
             "pattern": {
              "fillmode": "overlay",
              "size": 10,
              "solidity": 0.2
             }
            },
            "type": "histogram"
           }
          ],
          "histogram2d": [
           {
            "colorbar": {
             "outlinewidth": 0,
             "ticks": ""
            },
            "colorscale": [
             [
              0,
              "#0d0887"
             ],
             [
              0.1111111111111111,
              "#46039f"
             ],
             [
              0.2222222222222222,
              "#7201a8"
             ],
             [
              0.3333333333333333,
              "#9c179e"
             ],
             [
              0.4444444444444444,
              "#bd3786"
             ],
             [
              0.5555555555555556,
              "#d8576b"
             ],
             [
              0.6666666666666666,
              "#ed7953"
             ],
             [
              0.7777777777777778,
              "#fb9f3a"
             ],
             [
              0.8888888888888888,
              "#fdca26"
             ],
             [
              1,
              "#f0f921"
             ]
            ],
            "type": "histogram2d"
           }
          ],
          "histogram2dcontour": [
           {
            "colorbar": {
             "outlinewidth": 0,
             "ticks": ""
            },
            "colorscale": [
             [
              0,
              "#0d0887"
             ],
             [
              0.1111111111111111,
              "#46039f"
             ],
             [
              0.2222222222222222,
              "#7201a8"
             ],
             [
              0.3333333333333333,
              "#9c179e"
             ],
             [
              0.4444444444444444,
              "#bd3786"
             ],
             [
              0.5555555555555556,
              "#d8576b"
             ],
             [
              0.6666666666666666,
              "#ed7953"
             ],
             [
              0.7777777777777778,
              "#fb9f3a"
             ],
             [
              0.8888888888888888,
              "#fdca26"
             ],
             [
              1,
              "#f0f921"
             ]
            ],
            "type": "histogram2dcontour"
           }
          ],
          "mesh3d": [
           {
            "colorbar": {
             "outlinewidth": 0,
             "ticks": ""
            },
            "type": "mesh3d"
           }
          ],
          "parcoords": [
           {
            "line": {
             "colorbar": {
              "outlinewidth": 0,
              "ticks": ""
             }
            },
            "type": "parcoords"
           }
          ],
          "pie": [
           {
            "automargin": true,
            "type": "pie"
           }
          ],
          "scatter": [
           {
            "fillpattern": {
             "fillmode": "overlay",
             "size": 10,
             "solidity": 0.2
            },
            "type": "scatter"
           }
          ],
          "scatter3d": [
           {
            "line": {
             "colorbar": {
              "outlinewidth": 0,
              "ticks": ""
             }
            },
            "marker": {
             "colorbar": {
              "outlinewidth": 0,
              "ticks": ""
             }
            },
            "type": "scatter3d"
           }
          ],
          "scattercarpet": [
           {
            "marker": {
             "colorbar": {
              "outlinewidth": 0,
              "ticks": ""
             }
            },
            "type": "scattercarpet"
           }
          ],
          "scattergeo": [
           {
            "marker": {
             "colorbar": {
              "outlinewidth": 0,
              "ticks": ""
             }
            },
            "type": "scattergeo"
           }
          ],
          "scattergl": [
           {
            "marker": {
             "colorbar": {
              "outlinewidth": 0,
              "ticks": ""
             }
            },
            "type": "scattergl"
           }
          ],
          "scattermap": [
           {
            "marker": {
             "colorbar": {
              "outlinewidth": 0,
              "ticks": ""
             }
            },
            "type": "scattermap"
           }
          ],
          "scattermapbox": [
           {
            "marker": {
             "colorbar": {
              "outlinewidth": 0,
              "ticks": ""
             }
            },
            "type": "scattermapbox"
           }
          ],
          "scatterpolar": [
           {
            "marker": {
             "colorbar": {
              "outlinewidth": 0,
              "ticks": ""
             }
            },
            "type": "scatterpolar"
           }
          ],
          "scatterpolargl": [
           {
            "marker": {
             "colorbar": {
              "outlinewidth": 0,
              "ticks": ""
             }
            },
            "type": "scatterpolargl"
           }
          ],
          "scatterternary": [
           {
            "marker": {
             "colorbar": {
              "outlinewidth": 0,
              "ticks": ""
             }
            },
            "type": "scatterternary"
           }
          ],
          "surface": [
           {
            "colorbar": {
             "outlinewidth": 0,
             "ticks": ""
            },
            "colorscale": [
             [
              0,
              "#0d0887"
             ],
             [
              0.1111111111111111,
              "#46039f"
             ],
             [
              0.2222222222222222,
              "#7201a8"
             ],
             [
              0.3333333333333333,
              "#9c179e"
             ],
             [
              0.4444444444444444,
              "#bd3786"
             ],
             [
              0.5555555555555556,
              "#d8576b"
             ],
             [
              0.6666666666666666,
              "#ed7953"
             ],
             [
              0.7777777777777778,
              "#fb9f3a"
             ],
             [
              0.8888888888888888,
              "#fdca26"
             ],
             [
              1,
              "#f0f921"
             ]
            ],
            "type": "surface"
           }
          ],
          "table": [
           {
            "cells": {
             "fill": {
              "color": "#EBF0F8"
             },
             "line": {
              "color": "white"
             }
            },
            "header": {
             "fill": {
              "color": "#C8D4E3"
             },
             "line": {
              "color": "white"
             }
            },
            "type": "table"
           }
          ]
         },
         "layout": {
          "annotationdefaults": {
           "arrowcolor": "#2a3f5f",
           "arrowhead": 0,
           "arrowwidth": 1
          },
          "autotypenumbers": "strict",
          "coloraxis": {
           "colorbar": {
            "outlinewidth": 0,
            "ticks": ""
           }
          },
          "colorscale": {
           "diverging": [
            [
             0,
             "#8e0152"
            ],
            [
             0.1,
             "#c51b7d"
            ],
            [
             0.2,
             "#de77ae"
            ],
            [
             0.3,
             "#f1b6da"
            ],
            [
             0.4,
             "#fde0ef"
            ],
            [
             0.5,
             "#f7f7f7"
            ],
            [
             0.6,
             "#e6f5d0"
            ],
            [
             0.7,
             "#b8e186"
            ],
            [
             0.8,
             "#7fbc41"
            ],
            [
             0.9,
             "#4d9221"
            ],
            [
             1,
             "#276419"
            ]
           ],
           "sequential": [
            [
             0,
             "#0d0887"
            ],
            [
             0.1111111111111111,
             "#46039f"
            ],
            [
             0.2222222222222222,
             "#7201a8"
            ],
            [
             0.3333333333333333,
             "#9c179e"
            ],
            [
             0.4444444444444444,
             "#bd3786"
            ],
            [
             0.5555555555555556,
             "#d8576b"
            ],
            [
             0.6666666666666666,
             "#ed7953"
            ],
            [
             0.7777777777777778,
             "#fb9f3a"
            ],
            [
             0.8888888888888888,
             "#fdca26"
            ],
            [
             1,
             "#f0f921"
            ]
           ],
           "sequentialminus": [
            [
             0,
             "#0d0887"
            ],
            [
             0.1111111111111111,
             "#46039f"
            ],
            [
             0.2222222222222222,
             "#7201a8"
            ],
            [
             0.3333333333333333,
             "#9c179e"
            ],
            [
             0.4444444444444444,
             "#bd3786"
            ],
            [
             0.5555555555555556,
             "#d8576b"
            ],
            [
             0.6666666666666666,
             "#ed7953"
            ],
            [
             0.7777777777777778,
             "#fb9f3a"
            ],
            [
             0.8888888888888888,
             "#fdca26"
            ],
            [
             1,
             "#f0f921"
            ]
           ]
          },
          "colorway": [
           "#636efa",
           "#EF553B",
           "#00cc96",
           "#ab63fa",
           "#FFA15A",
           "#19d3f3",
           "#FF6692",
           "#B6E880",
           "#FF97FF",
           "#FECB52"
          ],
          "font": {
           "color": "#2a3f5f"
          },
          "geo": {
           "bgcolor": "white",
           "lakecolor": "white",
           "landcolor": "#E5ECF6",
           "showlakes": true,
           "showland": true,
           "subunitcolor": "white"
          },
          "hoverlabel": {
           "align": "left"
          },
          "hovermode": "closest",
          "mapbox": {
           "style": "light"
          },
          "paper_bgcolor": "white",
          "plot_bgcolor": "#E5ECF6",
          "polar": {
           "angularaxis": {
            "gridcolor": "white",
            "linecolor": "white",
            "ticks": ""
           },
           "bgcolor": "#E5ECF6",
           "radialaxis": {
            "gridcolor": "white",
            "linecolor": "white",
            "ticks": ""
           }
          },
          "scene": {
           "xaxis": {
            "backgroundcolor": "#E5ECF6",
            "gridcolor": "white",
            "gridwidth": 2,
            "linecolor": "white",
            "showbackground": true,
            "ticks": "",
            "zerolinecolor": "white"
           },
           "yaxis": {
            "backgroundcolor": "#E5ECF6",
            "gridcolor": "white",
            "gridwidth": 2,
            "linecolor": "white",
            "showbackground": true,
            "ticks": "",
            "zerolinecolor": "white"
           },
           "zaxis": {
            "backgroundcolor": "#E5ECF6",
            "gridcolor": "white",
            "gridwidth": 2,
            "linecolor": "white",
            "showbackground": true,
            "ticks": "",
            "zerolinecolor": "white"
           }
          },
          "shapedefaults": {
           "line": {
            "color": "#2a3f5f"
           }
          },
          "ternary": {
           "aaxis": {
            "gridcolor": "white",
            "linecolor": "white",
            "ticks": ""
           },
           "baxis": {
            "gridcolor": "white",
            "linecolor": "white",
            "ticks": ""
           },
           "bgcolor": "#E5ECF6",
           "caxis": {
            "gridcolor": "white",
            "linecolor": "white",
            "ticks": ""
           }
          },
          "title": {
           "x": 0.05
          },
          "xaxis": {
           "automargin": true,
           "gridcolor": "white",
           "linecolor": "white",
           "ticks": "",
           "title": {
            "standoff": 15
           },
           "zerolinecolor": "white",
           "zerolinewidth": 2
          },
          "yaxis": {
           "automargin": true,
           "gridcolor": "white",
           "linecolor": "white",
           "ticks": "",
           "title": {
            "standoff": 15
           },
           "zerolinecolor": "white",
           "zerolinewidth": 2
          }
         }
        },
        "title": {
         "text": "Average Data Salary by Company Location (USD)"
        }
       }
      }
     },
     "metadata": {},
     "output_type": "display_data"
    }
   ],
   "source": [
    "# calculate average salary by company location\n",
    "avg_salary_country = salary.groupby('company_location')['salary_in_usd'].mean().reset_index()\n",
    "\n",
    "avg_salary_country['country_code'] = avg_salary_country['company_location'].apply(alpha2_to_alpha3)\n",
    "avg_salary_country\n",
    "\n",
    "# Plotting the average salary by company location using Plotly\n",
    "fig = px.choropleth(\n",
    "    avg_salary_country,\n",
    "    locations='country_code',      # ISO Alpha-3 code\n",
    "    color='salary_in_usd',\n",
    "    color_continuous_scale='Viridis',\n",
    "    title='Average Data Salary by Company Location (USD)',\n",
    "    labels={'salary_in_usd': 'Avg Salary'},\n",
    "    projection='natural earth'\n",
    ")\n",
    "fig.update_layout(margin={\"r\":0,\"t\":40,\"l\":0,\"b\":0})\n",
    "fig.show()"
   ]
  },
  {
   "cell_type": "code",
   "execution_count": 13,
   "id": "e2f25562",
   "metadata": {},
   "outputs": [
    {
     "data": {
      "text/plain": [
       "company_location\n",
       "US    3040\n",
       "GB     172\n",
       "CA      87\n",
       "ES      77\n",
       "IN      58\n",
       "DE      56\n",
       "FR      34\n",
       "BR      15\n",
       "PT      14\n",
       "AU      14\n",
       "GR      14\n",
       "NL      13\n",
       "Name: count, dtype: int64"
      ]
     },
     "execution_count": 13,
     "metadata": {},
     "output_type": "execute_result"
    }
   ],
   "source": [
    "# check the number of entries for major company location\n",
    "major_country['company_location'].value_counts()"
   ]
  },
  {
   "cell_type": "code",
   "execution_count": 14,
   "id": "3cd055ae",
   "metadata": {},
   "outputs": [
    {
     "data": {
      "image/png": "[encoded data removed]",
      "text/plain": [
       "<Figure size 1200x600 with 1 Axes>"
      ]
     },
     "metadata": {},
     "output_type": "display_data"
    }
   ],
   "source": [
    "# explore the job title distribution with barplot\n",
    "# filter out job titles with only a few entries(less than 15)\n",
    "valid_job_titles = salary['job_title'].value_counts()\n",
    "valid_job_titles = valid_job_titles[valid_job_titles > 15].index\n",
    "major_job = salary[salary['job_title'].isin(valid_job_titles)]\n",
    "plt.figure(figsize=(12, 6))\n",
    "sns.countplot(data=major_job, y='job_title', hue='job_title', legend=False, order=major_job['job_title'].value_counts().index, palette='Pastel1')\n",
    "plt.title('Job Title Distribution', fontsize=14, weight='bold')\n",
    "plt.suptitle('Data Science Salaries 2023', fontsize=10, y=1.02, color='gray')\n",
    "plt.xlabel('Count')\n",
    "plt.ylabel('Job Title')\n",
    "plt.xticks(fontsize=10)\n",
    "plt.tight_layout()"
   ]
  },
  {
   "cell_type": "code",
   "execution_count": 15,
   "id": "53dd68a5",
   "metadata": {},
   "outputs": [
    {
     "data": {
      "text/plain": [
       "job_title\n",
       "Data Engineer                 1040\n",
       "Data Scientist                 840\n",
       "Data Analyst                   612\n",
       "Machine Learning Engineer      289\n",
       "Analytics Engineer             103\n",
       "Data Architect                 101\n",
       "Research Scientist              82\n",
       "Data Science Manager            58\n",
       "Applied Scientist               58\n",
       "Research Engineer               37\n",
       "ML Engineer                     34\n",
       "Data Manager                    29\n",
       "Machine Learning Scientist      26\n",
       "Data Science Consultant         24\n",
       "Data Analytics Manager          22\n",
       "Computer Vision Engineer        18\n",
       "AI Scientist                    16\n",
       "Name: count, dtype: int64"
      ]
     },
     "execution_count": 15,
     "metadata": {},
     "output_type": "execute_result"
    }
   ],
   "source": [
    "# Check the number of entries for major job titles\n",
    "major_job['job_title'].value_counts()"
   ]
  },
  {
   "cell_type": "code",
   "execution_count": 16,
   "id": "26351d53",
   "metadata": {},
   "outputs": [
    {
     "data": {
      "image/png": "[encoded data removed]",
      "text/plain": [
       "<Figure size 1200x600 with 1 Axes>"
      ]
     },
     "metadata": {},
     "output_type": "display_data"
    }
   ],
   "source": [
    "# explore the salary distribution by job_title\n",
    "salary_boxplot(data=major_job, x='job_title', title='Salary Distribution by Job Title', xlabel_fontsize=8)"
   ]
  },
  {
   "cell_type": "code",
   "execution_count": 17,
   "id": "a09f9359",
   "metadata": {},
   "outputs": [
    {
     "data": {
      "image/png": "[encoded data removed]",
      "text/plain": [
       "<Figure size 1200x600 with 1 Axes>"
      ]
     },
     "metadata": {},
     "output_type": "display_data"
    }
   ],
   "source": [
    "# compare the most common three job titles\n",
    "job_titles = major_job['job_title'].value_counts().index[:3]\n",
    "# filter the data for the three job titles\n",
    "major_job3 = major_job[major_job['job_title'].isin(job_titles)]\n",
    "# Boxplot for salary vs job title for the three most common job titles\n",
    "salary_boxplot(\n",
    "    data=major_job3,\n",
    "    x='job_title',\n",
    "    title='Salary Distribution by Job Title (Top 3)',\n",
    "    rotate_xticks=False,\n",
    "    palette='Set1',\n",
    "    showfliers=True\n",
    ")"
   ]
  },
  {
   "cell_type": "code",
   "execution_count": 18,
   "id": "8c776ed6",
   "metadata": {},
   "outputs": [
    {
     "data": {
      "image/png": "[encoded data removed]",
      "text/plain": [
       "<Figure size 1200x600 with 1 Axes>"
      ]
     },
     "metadata": {},
     "output_type": "display_data"
    }
   ],
   "source": [
    "# explore remote, hybrid, and on-site work salary distribution\n",
    "salary_boxplot(\n",
    "    data=salary,\n",
    "    x='remote_ratio',\n",
    "    title='Salary Distribution by Work Type',\n",
    "    xlabel='Work Type',\n",
    "    palette='Set2',\n",
    "    showfliers=True,\n",
    "    xtick_angle=0\n",
    ")"
   ]
  },
  {
   "cell_type": "code",
   "execution_count": 19,
   "id": "afe60925",
   "metadata": {},
   "outputs": [
    {
     "data": {
      "image/png": "[encoded data removed]",
      "text/plain": [
       "<Figure size 1200x600 with 1 Axes>"
      ]
     },
     "metadata": {},
     "output_type": "display_data"
    }
   ],
   "source": [
    "# explore the changes of salary for different experience levels\n",
    "# follow the order from entry to executive\n",
    "salary['experience_level'] = pd.Categorical(salary['experience_level'], categories=['entry', 'mid', 'senior', 'executive'], ordered=True)\n",
    "salary_boxplot(\n",
    "    data=salary,\n",
    "    x='experience_level',\n",
    "    title='Salary Distribution by Experience Level',\n",
    "    xlabel='Experience Level',\n",
    "    palette='Set2',\n",
    "    showfliers=True,\n",
    "    xtick_angle=0\n",
    ")"
   ]
  },
  {
   "cell_type": "markdown",
   "id": "7b94d6a5",
   "metadata": {},
   "source": [
    "### Insight Analysis\n",
    "\n",
    "> The following analysis focuses only on companies located in the **United States (US)**.\n",
    "\n",
    "---\n",
    "\n",
    "This section explores deeper and practical questions related to data positions, filtered by company location = `US`.\n"
   ]
  },
  {
   "cell_type": "markdown",
   "id": "85f89076",
   "metadata": {},
   "source": [
    "#### For only entry level jobs, what combination of job title and work type has the highest salary?"
   ]
  },
  {
   "cell_type": "code",
   "execution_count": 20,
   "id": "aa3e3f44",
   "metadata": {},
   "outputs": [
    {
     "name": "stdout",
     "output_type": "stream",
     "text": [
      "Top 10 combinations of job title and remote ratio with the highest salary in US:\n",
      "                     job_title remote_ratio salary_pretty\n",
      "32  Machine Learning Scientist       remote      $225,000\n",
      "35          Research Scientist       hybrid      $220,000\n",
      "28  Machine Learning Developer       remote      $180,000\n",
      "12    Computer Vision Engineer      on-site      $172,500\n",
      "2            Applied Scientist      on-site      $167,357\n",
      "29   Machine Learning Engineer       hybrid      $148,667\n",
      "34           Research Engineer      on-site      $140,000\n",
      "30   Machine Learning Engineer      on-site      $138,347\n",
      "26      Deep Learning Engineer      on-site      $135,000\n",
      "31   Machine Learning Engineer       remote      $131,500\n"
     ]
    }
   ],
   "source": [
    "# focus on only entry-level data\n",
    "entry_salary = salary[salary['experience_level'] == 'entry']\n",
    "us_entry_salary = entry_salary[entry_salary['company_location'] == 'US']\n",
    "# Group by job title and remote ratio, then calculate the mean salary\n",
    "us_entry_salary_grouped = us_entry_salary.groupby(['job_title', 'remote_ratio'], observed=True)['salary_in_usd'].mean().reset_index()\n",
    "us_entry_salary_grouped['salary_pretty'] = us_entry_salary_grouped['salary_in_usd'].apply(lambda x: f'${x:,.0f}')\n",
    "# Sort the grouped data by salary in descending order\n",
    "us_entry_salary_grouped = us_entry_salary_grouped.sort_values(by='salary_in_usd', ascending=False)\n",
    "# Display the top 10 combinations of job title and remote ratio with the highest salary\n",
    "top_us_entry_salary = us_entry_salary_grouped.head(10)\n",
    "print(\"Top 10 combinations of job title and remote ratio with the highest salary in US:\")\n",
    "print(top_us_entry_salary[['job_title', 'remote_ratio', 'salary_pretty']])"
   ]
  },
  {
   "cell_type": "code",
   "execution_count": 21,
   "id": "722e63d7",
   "metadata": {},
   "outputs": [
    {
     "data": {
      "image/png": "[encoded data removed]",
      "text/plain": [
       "<Figure size 640x480 with 1 Axes>"
      ]
     },
     "metadata": {},
     "output_type": "display_data"
    }
   ],
   "source": [
    "# Check the distribution of entry-level salaries in the US\n",
    "histogram = sns.histplot(us_entry_salary['salary_in_usd'], bins=40, kde=True, color='skyblue', edgecolor='white', alpha=0.7)\n",
    "plt.title('Distribution of Entry-Level Data Positions Salaries in the US', fontsize=14, weight='bold')\n",
    "plt.suptitle('Data Science Salaries 2023 (USD)', fontsize=10, color='gray')\n",
    "plt.xlabel('Salary in USD',fontsize=11)\n",
    "plt.ylabel('Frequency',fontsize=11)\n",
    "plt.gca().xaxis.set_major_formatter(ticker.FuncFormatter(lambda x, _: f'${x:,.0f}')) # change the x-axis as currency format\n",
    "# add a vertical line for the median salary\n",
    "mean_salary = us_entry_salary['salary_in_usd'].median()\n",
    "plt.axvline(mean_salary, color='pink', linestyle='--', linewidth=1.5, label=f'Mean: ${mean_salary:,.0f}')\n",
    "plt.tight_layout()\n",
    "plt.show()"
   ]
  },
  {
   "cell_type": "markdown",
   "id": "d715dca8",
   "metadata": {},
   "source": [
    "#### For entry level position, what are some with relative high salary and not so competitive (records not so much)?"
   ]
  },
  {
   "cell_type": "code",
   "execution_count": 22,
   "id": "0ec6585f",
   "metadata": {},
   "outputs": [
    {
     "data": {
      "application/vnd.plotly.v1+json": {
       "config": {
        "plotlyServerURL": "https://plot.ly"
       },
       "data": [
        {
         "hovertemplate": "<b>%{hovertext}</b><br><br>Job Count=%{x}<br>Average Salary (USD)=%{y}<extra></extra>",
         "hovertext": [
          "AI Scientist",
          "Analytics Engineer",
          "Applied Scientist",
          "BI Analyst",
          "BI Data Analyst",
          "BI Data Engineer",
          "BI Developer",
          "Big Data Engineer",
          "Business Data Analyst",
          "Computer Vision Engineer",
          "Computer Vision Software Engineer",
          "Data Analyst",
          "Data Analytics Consultant",
          "Data Engineer",
          "Data Manager",
          "Data Science Consultant",
          "Data Scientist",
          "Data Specialist",
          "Deep Learning Engineer",
          "Financial Data Analyst",
          "Machine Learning Developer",
          "Machine Learning Engineer",
          "Machine Learning Scientist",
          "Product Data Analyst",
          "Research Engineer",
          "Research Scientist"
         ],
         "legendgroup": "",
         "marker": {
          "color": "#636efa",
          "symbol": "circle"
         },
         "mode": "markers",
         "name": "",
         "orientation": "v",
         "showlegend": false,
         "textposition": "top center",
         "type": "scatter",
         "x": {
          "bdata": "AwEGAgIBAgECAgEvATECARwBAgEBCwEBCAY=",
          "dtype": "i1"
         },
         "xaxis": "x",
         "y": {
          "bdata": "q6qqqqoW2EAAAAAAAL3/QFVVVVXlbQRBAAAAAAB85UAAAAAAAFjrQAAAAAAATO1AAAAAAAC9/0AAAAAAABfxQAAAAAAAEfJAAAAAAKAOBUEAAAAAABfxQJ6N+s5GJ/FAAAAAAABq6ECsD4314c76QAAAAABAAe5AAAAAAAD59UAlSZIkicD5QAAAAACAovlAAAAAAMB6AEEAAAAAAGr4QAAAAAAA+QVBL7roomMUAUEAAAAAQHcLQQAAAAAAavhAAAAAAAAXAUEAAAAAABcBQQ==",
          "dtype": "f8"
         },
         "yaxis": "y"
        },
        {
         "hovertemplate": "<b>OLS trendline</b><br>avg_salary = -140.452 * job_count + 106775<br>R<sup>2</sup>=0.001482<br><br>Job Count=%{x}<br>Average Salary (USD)=%{y} <b>(trend)</b><extra></extra>",
         "legendgroup": "",
         "marker": {
          "color": "#636efa",
          "symbol": "circle"
         },
         "mode": "lines",
         "name": "",
         "showlegend": false,
         "textposition": "top center",
         "type": "scatter",
         "x": {
          "bdata": "AQEBAQEBAQEBAQECAgICAgICAwYGCAscLzE=",
          "dtype": "i1"
         },
         "xaxis": "x",
         "y": {
          "bdata": "ONZbXKII+kA41ltcogj6QDjWW1yiCPpAONZbXKII+kA41ltcogj6QDjWW1yiCPpAONZbXKII+kA41ltcogj6QDjWW1yiCPpAONZbXKII+kA41ltcogj6QB5s4SHb//lAHmzhIdv/+UAebOEh2//5QB5s4SHb//lAHmzhIdv/+UAebOEh2//5QB5s4SHb//lABQJn5xP3+UC4w/c3vtz5QLjD9ze+3PlAhO8Cwy/L+UA3sZMT2rD5QIGlcjGfG/lAmMVc2tV0+EBk8WdlR2P4QA==",
          "dtype": "f8"
         },
         "yaxis": "y"
        }
       ],
       "layout": {
        "legend": {
         "tracegroupgap": 0
        },
        "template": {
         "data": {
          "bar": [
           {
            "error_x": {
             "color": "#2a3f5f"
            },
            "error_y": {
             "color": "#2a3f5f"
            },
            "marker": {
             "line": {
              "color": "#E5ECF6",
              "width": 0.5
             },
             "pattern": {
              "fillmode": "overlay",
              "size": 10,
              "solidity": 0.2
             }
            },
            "type": "bar"
           }
          ],
          "barpolar": [
           {
            "marker": {
             "line": {
              "color": "#E5ECF6",
              "width": 0.5
             },
             "pattern": {
              "fillmode": "overlay",
              "size": 10,
              "solidity": 0.2
             }
            },
            "type": "barpolar"
           }
          ],
          "carpet": [
           {
            "aaxis": {
             "endlinecolor": "#2a3f5f",
             "gridcolor": "white",
             "linecolor": "white",
             "minorgridcolor": "white",
             "startlinecolor": "#2a3f5f"
            },
            "baxis": {
             "endlinecolor": "#2a3f5f",
             "gridcolor": "white",
             "linecolor": "white",
             "minorgridcolor": "white",
             "startlinecolor": "#2a3f5f"
            },
            "type": "carpet"
           }
          ],
          "choropleth": [
           {
            "colorbar": {
             "outlinewidth": 0,
             "ticks": ""
            },
            "type": "choropleth"
           }
          ],
          "contour": [
           {
            "colorbar": {
             "outlinewidth": 0,
             "ticks": ""
            },
            "colorscale": [
             [
              0,
              "#0d0887"
             ],
             [
              0.1111111111111111,
              "#46039f"
             ],
             [
              0.2222222222222222,
              "#7201a8"
             ],
             [
              0.3333333333333333,
              "#9c179e"
             ],
             [
              0.4444444444444444,
              "#bd3786"
             ],
             [
              0.5555555555555556,
              "#d8576b"
             ],
             [
              0.6666666666666666,
              "#ed7953"
             ],
             [
              0.7777777777777778,
              "#fb9f3a"
             ],
             [
              0.8888888888888888,
              "#fdca26"
             ],
             [
              1,
              "#f0f921"
             ]
            ],
            "type": "contour"
           }
          ],
          "contourcarpet": [
           {
            "colorbar": {
             "outlinewidth": 0,
             "ticks": ""
            },
            "type": "contourcarpet"
           }
          ],
          "heatmap": [
           {
            "colorbar": {
             "outlinewidth": 0,
             "ticks": ""
            },
            "colorscale": [
             [
              0,
              "#0d0887"
             ],
             [
              0.1111111111111111,
              "#46039f"
             ],
             [
              0.2222222222222222,
              "#7201a8"
             ],
             [
              0.3333333333333333,
              "#9c179e"
             ],
             [
              0.4444444444444444,
              "#bd3786"
             ],
             [
              0.5555555555555556,
              "#d8576b"
             ],
             [
              0.6666666666666666,
              "#ed7953"
             ],
             [
              0.7777777777777778,
              "#fb9f3a"
             ],
             [
              0.8888888888888888,
              "#fdca26"
             ],
             [
              1,
              "#f0f921"
             ]
            ],
            "type": "heatmap"
           }
          ],
          "histogram": [
           {
            "marker": {
             "pattern": {
              "fillmode": "overlay",
              "size": 10,
              "solidity": 0.2
             }
            },
            "type": "histogram"
           }
          ],
          "histogram2d": [
           {
            "colorbar": {
             "outlinewidth": 0,
             "ticks": ""
            },
            "colorscale": [
             [
              0,
              "#0d0887"
             ],
             [
              0.1111111111111111,
              "#46039f"
             ],
             [
              0.2222222222222222,
              "#7201a8"
             ],
             [
              0.3333333333333333,
              "#9c179e"
             ],
             [
              0.4444444444444444,
              "#bd3786"
             ],
             [
              0.5555555555555556,
              "#d8576b"
             ],
             [
              0.6666666666666666,
              "#ed7953"
             ],
             [
              0.7777777777777778,
              "#fb9f3a"
             ],
             [
              0.8888888888888888,
              "#fdca26"
             ],
             [
              1,
              "#f0f921"
             ]
            ],
            "type": "histogram2d"
           }
          ],
          "histogram2dcontour": [
           {
            "colorbar": {
             "outlinewidth": 0,
             "ticks": ""
            },
            "colorscale": [
             [
              0,
              "#0d0887"
             ],
             [
              0.1111111111111111,
              "#46039f"
             ],
             [
              0.2222222222222222,
              "#7201a8"
             ],
             [
              0.3333333333333333,
              "#9c179e"
             ],
             [
              0.4444444444444444,
              "#bd3786"
             ],
             [
              0.5555555555555556,
              "#d8576b"
             ],
             [
              0.6666666666666666,
              "#ed7953"
             ],
             [
              0.7777777777777778,
              "#fb9f3a"
             ],
             [
              0.8888888888888888,
              "#fdca26"
             ],
             [
              1,
              "#f0f921"
             ]
            ],
            "type": "histogram2dcontour"
           }
          ],
          "mesh3d": [
           {
            "colorbar": {
             "outlinewidth": 0,
             "ticks": ""
            },
            "type": "mesh3d"
           }
          ],
          "parcoords": [
           {
            "line": {
             "colorbar": {
              "outlinewidth": 0,
              "ticks": ""
             }
            },
            "type": "parcoords"
           }
          ],
          "pie": [
           {
            "automargin": true,
            "type": "pie"
           }
          ],
          "scatter": [
           {
            "fillpattern": {
             "fillmode": "overlay",
             "size": 10,
             "solidity": 0.2
            },
            "type": "scatter"
           }
          ],
          "scatter3d": [
           {
            "line": {
             "colorbar": {
              "outlinewidth": 0,
              "ticks": ""
             }
            },
            "marker": {
             "colorbar": {
              "outlinewidth": 0,
              "ticks": ""
             }
            },
            "type": "scatter3d"
           }
          ],
          "scattercarpet": [
           {
            "marker": {
             "colorbar": {
              "outlinewidth": 0,
              "ticks": ""
             }
            },
            "type": "scattercarpet"
           }
          ],
          "scattergeo": [
           {
            "marker": {
             "colorbar": {
              "outlinewidth": 0,
              "ticks": ""
             }
            },
            "type": "scattergeo"
           }
          ],
          "scattergl": [
           {
            "marker": {
             "colorbar": {
              "outlinewidth": 0,
              "ticks": ""
             }
            },
            "type": "scattergl"
           }
          ],
          "scattermap": [
           {
            "marker": {
             "colorbar": {
              "outlinewidth": 0,
              "ticks": ""
             }
            },
            "type": "scattermap"
           }
          ],
          "scattermapbox": [
           {
            "marker": {
             "colorbar": {
              "outlinewidth": 0,
              "ticks": ""
             }
            },
            "type": "scattermapbox"
           }
          ],
          "scatterpolar": [
           {
            "marker": {
             "colorbar": {
              "outlinewidth": 0,
              "ticks": ""
             }
            },
            "type": "scatterpolar"
           }
          ],
          "scatterpolargl": [
           {
            "marker": {
             "colorbar": {
              "outlinewidth": 0,
              "ticks": ""
             }
            },
            "type": "scatterpolargl"
           }
          ],
          "scatterternary": [
           {
            "marker": {
             "colorbar": {
              "outlinewidth": 0,
              "ticks": ""
             }
            },
            "type": "scatterternary"
           }
          ],
          "surface": [
           {
            "colorbar": {
             "outlinewidth": 0,
             "ticks": ""
            },
            "colorscale": [
             [
              0,
              "#0d0887"
             ],
             [
              0.1111111111111111,
              "#46039f"
             ],
             [
              0.2222222222222222,
              "#7201a8"
             ],
             [
              0.3333333333333333,
              "#9c179e"
             ],
             [
              0.4444444444444444,
              "#bd3786"
             ],
             [
              0.5555555555555556,
              "#d8576b"
             ],
             [
              0.6666666666666666,
              "#ed7953"
             ],
             [
              0.7777777777777778,
              "#fb9f3a"
             ],
             [
              0.8888888888888888,
              "#fdca26"
             ],
             [
              1,
              "#f0f921"
             ]
            ],
            "type": "surface"
           }
          ],
          "table": [
           {
            "cells": {
             "fill": {
              "color": "#EBF0F8"
             },
             "line": {
              "color": "white"
             }
            },
            "header": {
             "fill": {
              "color": "#C8D4E3"
             },
             "line": {
              "color": "white"
             }
            },
            "type": "table"
           }
          ]
         },
         "layout": {
          "annotationdefaults": {
           "arrowcolor": "#2a3f5f",
           "arrowhead": 0,
           "arrowwidth": 1
          },
          "autotypenumbers": "strict",
          "coloraxis": {
           "colorbar": {
            "outlinewidth": 0,
            "ticks": ""
           }
          },
          "colorscale": {
           "diverging": [
            [
             0,
             "#8e0152"
            ],
            [
             0.1,
             "#c51b7d"
            ],
            [
             0.2,
             "#de77ae"
            ],
            [
             0.3,
             "#f1b6da"
            ],
            [
             0.4,
             "#fde0ef"
            ],
            [
             0.5,
             "#f7f7f7"
            ],
            [
             0.6,
             "#e6f5d0"
            ],
            [
             0.7,
             "#b8e186"
            ],
            [
             0.8,
             "#7fbc41"
            ],
            [
             0.9,
             "#4d9221"
            ],
            [
             1,
             "#276419"
            ]
           ],
           "sequential": [
            [
             0,
             "#0d0887"
            ],
            [
             0.1111111111111111,
             "#46039f"
            ],
            [
             0.2222222222222222,
             "#7201a8"
            ],
            [
             0.3333333333333333,
             "#9c179e"
            ],
            [
             0.4444444444444444,
             "#bd3786"
            ],
            [
             0.5555555555555556,
             "#d8576b"
            ],
            [
             0.6666666666666666,
             "#ed7953"
            ],
            [
             0.7777777777777778,
             "#fb9f3a"
            ],
            [
             0.8888888888888888,
             "#fdca26"
            ],
            [
             1,
             "#f0f921"
            ]
           ],
           "sequentialminus": [
            [
             0,
             "#0d0887"
            ],
            [
             0.1111111111111111,
             "#46039f"
            ],
            [
             0.2222222222222222,
             "#7201a8"
            ],
            [
             0.3333333333333333,
             "#9c179e"
            ],
            [
             0.4444444444444444,
             "#bd3786"
            ],
            [
             0.5555555555555556,
             "#d8576b"
            ],
            [
             0.6666666666666666,
             "#ed7953"
            ],
            [
             0.7777777777777778,
             "#fb9f3a"
            ],
            [
             0.8888888888888888,
             "#fdca26"
            ],
            [
             1,
             "#f0f921"
            ]
           ]
          },
          "colorway": [
           "#636efa",
           "#EF553B",
           "#00cc96",
           "#ab63fa",
           "#FFA15A",
           "#19d3f3",
           "#FF6692",
           "#B6E880",
           "#FF97FF",
           "#FECB52"
          ],
          "font": {
           "color": "#2a3f5f"
          },
          "geo": {
           "bgcolor": "white",
           "lakecolor": "white",
           "landcolor": "#E5ECF6",
           "showlakes": true,
           "showland": true,
           "subunitcolor": "white"
          },
          "hoverlabel": {
           "align": "left"
          },
          "hovermode": "closest",
          "mapbox": {
           "style": "light"
          },
          "paper_bgcolor": "white",
          "plot_bgcolor": "#E5ECF6",
          "polar": {
           "angularaxis": {
            "gridcolor": "white",
            "linecolor": "white",
            "ticks": ""
           },
           "bgcolor": "#E5ECF6",
           "radialaxis": {
            "gridcolor": "white",
            "linecolor": "white",
            "ticks": ""
           }
          },
          "scene": {
           "xaxis": {
            "backgroundcolor": "#E5ECF6",
            "gridcolor": "white",
            "gridwidth": 2,
            "linecolor": "white",
            "showbackground": true,
            "ticks": "",
            "zerolinecolor": "white"
           },
           "yaxis": {
            "backgroundcolor": "#E5ECF6",
            "gridcolor": "white",
            "gridwidth": 2,
            "linecolor": "white",
            "showbackground": true,
            "ticks": "",
            "zerolinecolor": "white"
           },
           "zaxis": {
            "backgroundcolor": "#E5ECF6",
            "gridcolor": "white",
            "gridwidth": 2,
            "linecolor": "white",
            "showbackground": true,
            "ticks": "",
            "zerolinecolor": "white"
           }
          },
          "shapedefaults": {
           "line": {
            "color": "#2a3f5f"
           }
          },
          "ternary": {
           "aaxis": {
            "gridcolor": "white",
            "linecolor": "white",
            "ticks": ""
           },
           "baxis": {
            "gridcolor": "white",
            "linecolor": "white",
            "ticks": ""
           },
           "bgcolor": "#E5ECF6",
           "caxis": {
            "gridcolor": "white",
            "linecolor": "white",
            "ticks": ""
           }
          },
          "title": {
           "x": 0.05
          },
          "xaxis": {
           "automargin": true,
           "gridcolor": "white",
           "linecolor": "white",
           "ticks": "",
           "title": {
            "standoff": 15
           },
           "zerolinecolor": "white",
           "zerolinewidth": 2
          },
          "yaxis": {
           "automargin": true,
           "gridcolor": "white",
           "linecolor": "white",
           "ticks": "",
           "title": {
            "standoff": 15
           },
           "zerolinecolor": "white",
           "zerolinewidth": 2
          }
         }
        },
        "title": {
         "text": "Average Salary vs Job Count for Entry-Level Data Positions in the US",
         "x": 0.5,
         "y": 0.95
        },
        "xaxis": {
         "anchor": "y",
         "domain": [
          0,
          1
         ],
         "title": {
          "text": "Job Count"
         }
        },
        "yaxis": {
         "anchor": "x",
         "domain": [
          0,
          1
         ],
         "title": {
          "text": "Average Salary (USD)"
         }
        }
       }
      }
     },
     "metadata": {},
     "output_type": "display_data"
    }
   ],
   "source": [
    "job_summary = us_entry_salary.groupby('job_title').agg(avg_salary = ('salary_in_usd', 'mean'), job_count=('job_title', 'count')).reset_index()\n",
    "# # pick the top 15 job titles with the highest average salary\n",
    "# job_summary = job_summary.sort_values(by='avg_salary', ascending=False).head(15)\n",
    "# Get px.scatter to visualize the average salary vs job count\n",
    "fig = px.scatter(\n",
    "    job_summary,\n",
    "    x='job_count',\n",
    "    y='avg_salary',\n",
    "    hover_name='job_title',  # 用 hover 替代 text\n",
    "    title='Average Salary vs Job Count for Entry-Level Data Positions in the US',\n",
    "    labels={'avg_salary': 'Average Salary (USD)', 'job_count': 'Job Count'},\n",
    "    trendline='ols'\n",
    ")\n",
    "fig.update_traces(textposition='top center')\n",
    "fig.update_layout(\n",
    "    xaxis_title='Job Count',\n",
    "    yaxis_title='Average Salary (USD)',\n",
    "    title_x=0.5,\n",
    "    title_y=0.95\n",
    ")\n",
    "fig.show()\n"
   ]
  },
  {
   "cell_type": "markdown",
   "id": "d0c5a424",
   "metadata": {},
   "source": [
    "#### Which Data Position(s) have the most growth in salary when experience grow?"
   ]
  },
  {
   "cell_type": "code",
   "execution_count": null,
   "id": "da5f827e",
   "metadata": {},
   "outputs": [
    {
     "name": "stdout",
     "output_type": "stream",
     "text": [
      "Top 10 job titles with the highest growth rate from entry to senior level in the US:\n",
      "experience_level                  job_title     entry       mid    senior  \\\n",
      "7                                BI Analyst   $44,000      $nan  $132,500   \n",
      "29                             Data Manager   $61,450  $119,833  $135,850   \n",
      "19                             Data Analyst   $70,260  $112,170  $124,519   \n",
      "39                           Data Scientist  $105,481  $124,443  $165,281   \n",
      "26                            Data Engineer  $109,806  $124,882  $156,759   \n",
      "34                  Data Science Consultant   $90,000   $87,667  $123,950   \n",
      "12                    Business Data Analyst   $74,000  $121,250  $100,000   \n",
      "67                       Research Scientist  $140,000  $185,150  $183,217   \n",
      "53                Machine Learning Engineer  $139,916  $161,838  $178,630   \n",
      "66                        Research Engineer  $140,000  $178,000  $177,936   \n",
      "\n",
      "experience_level  growth_rate  \n",
      "7                  201.136364  \n",
      "29                 121.074044  \n",
      "19                  77.224802  \n",
      "39                  56.693648  \n",
      "26                  42.760022  \n",
      "34                  37.722222  \n",
      "12                  35.135135  \n",
      "67                  30.869286  \n",
      "53                  27.669024  \n",
      "66                  27.097381  \n"
     ]
    }
   ],
   "source": [
    "# filter to only US data\n",
    "salary_us = salary[salary['company_location'] == 'US']\n",
    "# focus on only experience levels EN,MI, and SE\n",
    "salary_us = salary_us[salary_us['experience_level'].isin(['entry', 'mid', 'senior'])]\n",
    "# group by job title and experience level, then calculate the mean salary\n",
    "salary_us_grouped = salary_us.groupby(['job_title', 'experience_level'], observed=True)['salary_in_usd'].mean().reset_index()\n",
    "# Pivot the DataFrame to have job titles as rows and experience levels as columns\n",
    "salary_us_pivoted = salary_us_grouped.pivot_table(index='job_title', columns='experience_level', values='salary_in_usd').reset_index()\n",
    "# calculate the growth rate from entry to senior level\n",
    "salary_us_pivoted['growth_rate'] = (salary_us_pivoted['senior'] - salary_us_pivoted['entry']) / salary_us_pivoted['entry'] * 100\n",
    "# Sort the DataFrame by growth rate in descending order\n",
    "salary_us_pivoted = salary_us_pivoted.sort_values(by='growth_rate', ascending=False)\n",
    "# make salary currency format\n",
    "salary_us_pivoted['entry'] = salary_us_pivoted['entry'].apply(lambda x: f'${x:,.0f}')\n",
    "salary_us_pivoted['mid'] = salary_us_pivoted['mid'].apply(lambda x: f'${x:,.0f}')\n",
    "salary_us_pivoted['senior'] = salary_us_pivoted['senior'].apply(lambda x: f'${x:,.0f}')\n",
    "# Display the top 10 job titles with the highest growth rate\n",
    "top_growth_jobs = salary_us_pivoted.head(10)\n",
    "print(\"Top 10 job titles with the highest growth rate from entry to senior level in the US:\")\n",
    "print(top_growth_jobs)"
   ]
  },
  {
   "cell_type": "code",
   "execution_count": 49,
   "id": "6dbf8e57",
   "metadata": {},
   "outputs": [
    {
     "data": {
      "image/png": "[encoded data removed]",
      "text/plain": [
       "<Figure size 1200x600 with 1 Axes>"
      ]
     },
     "metadata": {},
     "output_type": "display_data"
    }
   ],
   "source": [
    "# Visulize the growth rate of salaries from entry to senior level for the top 10 job titles with bar plot\n",
    "plt.figure(figsize=(12, 6))\n",
    "sns.barplot(\n",
    "    data=top_growth_jobs,\n",
    "    x='growth_rate',\n",
    "    y='job_title',\n",
    "    hue='job_title',\n",
    "    palette='Pastel2',\n",
    "    legend= False\n",
    ")\n",
    "plt.title('Growth Rate of Salaries from Entry to Senior Level (Top 10 Job Titles)', fontsize=14, weight='bold')\n",
    "plt.suptitle('Data Science Salaries 2023 (USD)', fontsize=10, y=1.02, color='gray')\n",
    "plt.xlabel('Growth Rate (%)')\n",
    "plt.ylabel('Job Title')\n",
    "plt.tight_layout()"
   ]
  },
  {
   "cell_type": "markdown",
   "id": "8494b775",
   "metadata": {},
   "source": [
    "#### What Job Titles have the most remote bonus?"
   ]
  },
  {
   "cell_type": "markdown",
   "id": "c2f726df",
   "metadata": {},
   "source": [
    "To be specific, for each job titles, same experience levels, which position(s) have high rate for remote over onsite?"
   ]
  },
  {
   "cell_type": "code",
   "execution_count": 23,
   "id": "183352bd",
   "metadata": {},
   "outputs": [
    {
     "data": {
      "text/html": [
       "<div>\n",
       "<style scoped>\n",
       "    .dataframe tbody tr th:only-of-type {\n",
       "        vertical-align: middle;\n",
       "    }\n",
       "\n",
       "    .dataframe tbody tr th {\n",
       "        vertical-align: top;\n",
       "    }\n",
       "\n",
       "    .dataframe thead th {\n",
       "        text-align: right;\n",
       "    }\n",
       "</style>\n",
       "<table border=\"1\" class=\"dataframe\">\n",
       "  <thead>\n",
       "    <tr style=\"text-align: right;\">\n",
       "      <th></th>\n",
       "      <th>job_title</th>\n",
       "      <th>experience_level</th>\n",
       "      <th>on_site</th>\n",
       "      <th>remote</th>\n",
       "      <th>remote_bonus</th>\n",
       "    </tr>\n",
       "  </thead>\n",
       "  <tbody>\n",
       "    <tr>\n",
       "      <th>109</th>\n",
       "      <td>Machine Learning Software Engineer</td>\n",
       "      <td>SE</td>\n",
       "      <td>$178,000</td>\n",
       "      <td>$375,000</td>\n",
       "      <td>$197,000</td>\n",
       "    </tr>\n",
       "    <tr>\n",
       "      <th>3</th>\n",
       "      <td>AI Scientist</td>\n",
       "      <td>MI</td>\n",
       "      <td>$120,000</td>\n",
       "      <td>$200,000</td>\n",
       "      <td>$80,000</td>\n",
       "    </tr>\n",
       "    <tr>\n",
       "      <th>61</th>\n",
       "      <td>Data Operations Engineer</td>\n",
       "      <td>SE</td>\n",
       "      <td>$87,500</td>\n",
       "      <td>$164,925</td>\n",
       "      <td>$77,425</td>\n",
       "    </tr>\n",
       "    <tr>\n",
       "      <th>49</th>\n",
       "      <td>Data Engineer</td>\n",
       "      <td>EX</td>\n",
       "      <td>$173,686</td>\n",
       "      <td>$243,037</td>\n",
       "      <td>$69,351</td>\n",
       "    </tr>\n",
       "    <tr>\n",
       "      <th>84</th>\n",
       "      <td>Financial Data Analyst</td>\n",
       "      <td>MI</td>\n",
       "      <td>$75,000</td>\n",
       "      <td>$130,000</td>\n",
       "      <td>$55,000</td>\n",
       "    </tr>\n",
       "    <tr>\n",
       "      <th>79</th>\n",
       "      <td>Data Specialist</td>\n",
       "      <td>SE</td>\n",
       "      <td>$90,000</td>\n",
       "      <td>$140,000</td>\n",
       "      <td>$50,000</td>\n",
       "    </tr>\n",
       "    <tr>\n",
       "      <th>24</th>\n",
       "      <td>Business Data Analyst</td>\n",
       "      <td>MI</td>\n",
       "      <td>$95,000</td>\n",
       "      <td>$142,500</td>\n",
       "      <td>$47,500</td>\n",
       "    </tr>\n",
       "    <tr>\n",
       "      <th>82</th>\n",
       "      <td>Director of Data Science</td>\n",
       "      <td>EX</td>\n",
       "      <td>$284,167</td>\n",
       "      <td>$325,000</td>\n",
       "      <td>$40,833</td>\n",
       "    </tr>\n",
       "    <tr>\n",
       "      <th>46</th>\n",
       "      <td>Data Architect</td>\n",
       "      <td>MI</td>\n",
       "      <td>$137,000</td>\n",
       "      <td>$166,667</td>\n",
       "      <td>$29,667</td>\n",
       "    </tr>\n",
       "    <tr>\n",
       "      <th>70</th>\n",
       "      <td>Data Science Manager</td>\n",
       "      <td>MI</td>\n",
       "      <td>$147,375</td>\n",
       "      <td>$173,000</td>\n",
       "      <td>$25,625</td>\n",
       "    </tr>\n",
       "  </tbody>\n",
       "</table>\n",
       "</div>"
      ],
      "text/plain": [
       "                              job_title experience_level   on_site    remote  \\\n",
       "109  Machine Learning Software Engineer               SE  $178,000  $375,000   \n",
       "3                          AI Scientist               MI  $120,000  $200,000   \n",
       "61             Data Operations Engineer               SE   $87,500  $164,925   \n",
       "49                        Data Engineer               EX  $173,686  $243,037   \n",
       "84               Financial Data Analyst               MI   $75,000  $130,000   \n",
       "79                      Data Specialist               SE   $90,000  $140,000   \n",
       "24                Business Data Analyst               MI   $95,000  $142,500   \n",
       "82             Director of Data Science               EX  $284,167  $325,000   \n",
       "46                       Data Architect               MI  $137,000  $166,667   \n",
       "70                 Data Science Manager               MI  $147,375  $173,000   \n",
       "\n",
       "    remote_bonus  \n",
       "109     $197,000  \n",
       "3        $80,000  \n",
       "61       $77,425  \n",
       "49       $69,351  \n",
       "84       $55,000  \n",
       "79       $50,000  \n",
       "24       $47,500  \n",
       "82       $40,833  \n",
       "46       $29,667  \n",
       "70       $25,625  "
      ]
     },
     "execution_count": 23,
     "metadata": {},
     "output_type": "execute_result"
    }
   ],
   "source": [
    "salary = pd.read_csv(csv_path)\n",
    "salary = salary[salary['company_location'] == 'US']\n",
    "salary_copy = salary.copy()\n",
    "\n",
    "# For same job titles, experience levels, and remote ratios, calculate the average salary\n",
    "grouped_salary = salary_copy.groupby(['job_title','experience_level','remote_ratio'],observed=True)['salary_in_usd'].mean().reset_index()\n",
    "grouped_salary = grouped_salary[grouped_salary['remote_ratio'].isin([100,0])] # compare only remote and on-site salaries\n",
    "# Pivot the DataFrame to have job titles as rows and remote ratios as columns\n",
    "pivoted = grouped_salary.pivot_table(index=['job_title','experience_level'], columns='remote_ratio', values='salary_in_usd').reset_index()\n",
    "pivoted.columns.name = None  # Remove the name of the columns index in case confusion\n",
    "# calculate the difference between remote and on-site salaries\n",
    "pivoted['remote_bonus'] = pivoted[100] - pivoted[0]\n",
    "# Sort the DataFrame by the remote bonus in descending order\n",
    "pivoted = pivoted.sort_values(by='remote_bonus', ascending=False)\n",
    "\n",
    "pivoted['on_site'] = pivoted[0].apply(lambda x: f'${x:,.0f}')\n",
    "pivoted['remote'] = pivoted[100].apply(lambda x: f'${x:,.0f}')\n",
    "pivoted['remote_bonus'] = pivoted['remote_bonus'].apply(lambda x: f'${x:,.0f}') # change the money to currency format\n",
    "\n",
    "# Display the top 10 job titles with the highest remote bonus\n",
    "top_remote_bonus = pivoted[['job_title','experience_level','on_site','remote','remote_bonus']].head(10)\n",
    "top_remote_bonus"
   ]
  },
  {
   "cell_type": "code",
   "execution_count": 24,
   "id": "d72262b9",
   "metadata": {},
   "outputs": [
    {
     "name": "stdout",
     "output_type": "stream",
     "text": [
      "Top 10 job titles with the highest remote bonus for the top three job titles:\n",
      "         job_title experience_level   on_site    remote remote_bonus\n",
      "5    Data Engineer               EX  $173,686  $243,037      $69,351\n",
      "8   Data Scientist               EN  $103,888  $110,378       $6,489\n",
      "7    Data Engineer               SE  $155,489  $158,664       $3,175\n",
      "11  Data Scientist               SE  $164,747  $165,988       $1,240\n",
      "0     Data Analyst               EN   $70,400   $71,059         $659\n",
      "6    Data Engineer               MI  $125,368  $123,886      $-1,483\n",
      "3     Data Analyst               SE  $128,993  $119,807      $-9,186\n",
      "10  Data Scientist               MI  $135,662  $116,662     $-19,000\n",
      "2     Data Analyst               MI  $117,471   $97,669     $-19,803\n",
      "4    Data Engineer               EN  $119,972   $81,654     $-38,318\n"
     ]
    }
   ],
   "source": [
    "# Do the same quesiton but focsus on top three job titles\n",
    "top3 = salary_copy['job_title'].value_counts().index[:3]\n",
    "# filter the data for the three job titles\n",
    "top3_bonus = salary_copy[salary_copy['job_title'].isin(top3)]\n",
    "# Group by job title, experience level, and remote ratio, then calculate the mean salary\n",
    "top3_grouped = top3_bonus.groupby(['job_title', 'experience_level', 'remote_ratio'], observed=True)['salary_in_usd'].mean().reset_index()\n",
    "# Pivot the DataFrame to have job titles as rows and remote ratios as columns\n",
    "top3_pivoted = top3_grouped.pivot_table(index=['job_title', 'experience_level'], columns='remote_ratio', values='salary_in_usd').reset_index()\n",
    "top3_pivoted.columns.name = None  # Remove the name of the columns index in case confusion\n",
    "# calculate the difference between remote and on-site salaries\n",
    "top3_pivoted['remote_bonus'] = top3_pivoted[100] - top3_pivoted[0]\n",
    "# Sort the DataFrame by the remote bonus in descending order\n",
    "top3_pivoted = top3_pivoted.sort_values(by='remote_bonus', ascending=False)\n",
    "top3_pivoted['on_site'] = top3_pivoted[0].apply(lambda x: f'${x:,.0f}')\n",
    "top3_pivoted['remote'] = top3_pivoted[100].apply(lambda x: f'${x:,.0f}')\n",
    "top3_pivoted['remote_bonus'] = top3_pivoted['remote_bonus'].apply(lambda x: f'${x:,.0f}')  # change the money to currency format\n",
    "# Display the top 10 job titles with the highest remote bonus for the top three job titles\n",
    "top3_remote_bonus = top3_pivoted[['job_title', 'experience_level', 'on_site', 'remote', 'remote_bonus']].head(10)\n",
    "print(\"Top 10 job titles with the highest remote bonus for the top three job titles:\")\n",
    "print(top3_remote_bonus)"
   ]
  },
  {
   "cell_type": "markdown",
   "id": "6707d42b",
   "metadata": {},
   "source": [
    "It is noticed that for most those common data positions, on-sites gets higher paid compared to remote, except for high experience level of data engineer and data scientist."
   ]
  },
  {
   "cell_type": "markdown",
   "id": "527a0219",
   "metadata": {},
   "source": []
  }
 ],
 "metadata": {
  "kernelspec": {
   "display_name": "Python 3",
   "language": "python",
   "name": "python3"
  },
  "language_info": {
   "codemirror_mode": {
    "name": "ipython",
    "version": 3
   },
   "file_extension": ".py",
   "mimetype": "text/x-python",
   "name": "python",
   "nbconvert_exporter": "python",
   "pygments_lexer": "ipython3",
   "version": "3.13.0"
  }
 },
 "nbformat": 4,
 "nbformat_minor": 5
}
